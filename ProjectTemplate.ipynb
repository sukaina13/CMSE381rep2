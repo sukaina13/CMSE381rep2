{
 "cells": [
  {
   "cell_type": "markdown",
   "metadata": {},
   "source": [
    "# CMSE 381 Final Project Template"
   ]
  },
  {
   "cell_type": "markdown",
   "metadata": {},
   "source": [
    "**INSTRUCTIONS**: This is a template to help organize your project.  All projects should include the 5 major sections below (you do not need to use this template file).  If you use this file, complete your work below and remove content in parentheses. Also, remove this current cell.  "
   ]
  },
  {
   "cell_type": "markdown",
   "metadata": {},
   "source": [
    "#### CMSE 381 Final Project\n",
    "###  Group members: Sukaina Alkhalidy, Sherry\n",
    "###  Section_001\n",
    "####  The Freiwald Tsao Face View AM dataset"
   ]
  },
  {
   "cell_type": "markdown",
   "metadata": {},
   "source": [
    "# Neural Decoding of Faces and Head Orientation"
   ]
  },
  {
   "cell_type": "markdown",
   "metadata": {},
   "source": [
    "## Background and Motivation"
   ]
  },
  {
   "cell_type": "markdown",
   "metadata": {},
   "source": [
    "_(Provide context for the problem.  **Clearly state the question(s) you set\n",
    "out to answer.**)_"
   ]
  },
  {
   "cell_type": "markdown",
   "metadata": {},
   "source": [
    "##### Have you ever wondered how the brain figures out who we're looking at—just from a glance at a face? That’s exactly what this project explores. Scientists have discovered that a specific part of the brain, the anterior medial (AM) face patch, lights up when we see faces. The dataset we’re working with records activity from this region while a monkey views different faces from various angles.\n",
    "\n",
    "##### Our goal is to decode what the monkey was seeing just by looking at its brain activity. This process is known as neural decoding, and it's a fascinating way to connect neuroscience with machine learning. By analyzing patterns in neuron firing, we want to figure out if we can tell who the face was and which way it was facing.But we’re not stopping there. We also want to see which machine learning models do the best job at making these predictions. Can simpler models like logistic regression handle this? Or do we need more complex algorithms like random forests or support vector machines?"
   ]
  },
  {
   "cell_type": "markdown",
   "metadata": {},
   "source": [
    "## Questions:\n",
    "\n",
    "### question 1 :Can we classify the face identity seen by the subject using neuron activity?\n",
    "### question 2: Can we determine the head orientation based on neural responses?\n",
    "### Question 3: How accurately can different machine learning models decode facial perception?"
   ]
  },
  {
   "cell_type": "markdown",
   "metadata": {},
   "source": [
    "## Methodology\n",
    "_(How did you go about answering your question(s)? You should wrote some code here to demonstrate what the data is like and how in principle your method works. You can leave the variations of the related to specific results to the results section.)_"
   ]
  },
  {
   "cell_type": "markdown",
   "metadata": {},
   "source": [
    "# importing everything "
   ]
  },
  {
   "cell_type": "code",
   "execution_count": 1,
   "metadata": {},
   "outputs": [
    {
     "name": "stdout",
     "output_type": "stream",
     "text": [
      "Defaulting to user installation because normal site-packages is not writeable\n",
      "Requirement already satisfied: numpy<2 in /home/alkhal13/.local/lib/python3.11/site-packages (1.26.4)\n",
      "Requirement already satisfied: matplotlib in /home/alkhal13/.local/lib/python3.11/site-packages (3.7.1)\n",
      "Requirement already satisfied: contourpy>=1.0.1 in /opt/miniconda3/lib/python3.11/site-packages (from matplotlib) (1.3.1)\n",
      "Requirement already satisfied: cycler>=0.10 in /opt/miniconda3/lib/python3.11/site-packages (from matplotlib) (0.12.1)\n",
      "Requirement already satisfied: fonttools>=4.22.0 in /opt/miniconda3/lib/python3.11/site-packages (from matplotlib) (4.55.3)\n",
      "Requirement already satisfied: kiwisolver>=1.0.1 in /opt/miniconda3/lib/python3.11/site-packages (from matplotlib) (1.4.7)\n",
      "Requirement already satisfied: packaging>=20.0 in /opt/miniconda3/lib/python3.11/site-packages (from matplotlib) (24.2)\n",
      "Requirement already satisfied: pillow>=6.2.0 in /opt/miniconda3/lib/python3.11/site-packages (from matplotlib) (10.2.0)\n",
      "Requirement already satisfied: pyparsing>=2.3.1 in /opt/miniconda3/lib/python3.11/site-packages (from matplotlib) (3.2.1)\n",
      "Requirement already satisfied: python-dateutil>=2.7 in /opt/miniconda3/lib/python3.11/site-packages (from matplotlib) (2.9.0.post0)\n",
      "Requirement already satisfied: six>=1.5 in /opt/miniconda3/lib/python3.11/site-packages (from python-dateutil>=2.7->matplotlib) (1.17.0)\n",
      "Note: you may need to restart the kernel to use updated packages.\n"
     ]
    }
   ],
   "source": [
    "\n",
    "pip install \"numpy<2\" matplotlib"
   ]
  },
  {
   "cell_type": "code",
   "execution_count": 2,
   "metadata": {},
   "outputs": [],
   "source": [
    "import os\n",
    "import numpy as np\n",
    "import pandas as pd\n",
    "import matplotlib.pyplot as plt\n",
    "import seaborn as sns\n",
    "from sklearn.model_selection import train_test_split\n",
    "from sklearn.svm import SVC\n",
    "from sklearn.model_selection import train_test_split, cross_val_score\n",
    "from sklearn.preprocessing import StandardScaler\n",
    "from sklearn.ensemble import RandomForestClassifier\n",
    "from sklearn.svm import SVC\n",
    "from sklearn.neighbors import KNeighborsClassifier\n",
    "from sklearn.metrics import accuracy_score, classification_report, confusion_matrix\n",
    "from sklearn.preprocessing import LabelEncoder\n",
    "# Enable inline plotting for Jupyter Notebook\n",
    "%matplotlib inline\n"
   ]
  },
  {
   "cell_type": "markdown",
   "metadata": {},
   "source": [
    "### First, we load the dataset from the extracted folder and inspect its structure."
   ]
  },
  {
   "cell_type": "code",
   "execution_count": 3,
   "metadata": {},
   "outputs": [
    {
     "name": "stdout",
     "output_type": "stream",
     "text": [
      "Dataset Loaded: Freiwald_Tsao_faceviews_AM_data_csv/raster_data_bert_am_site070.csv\n",
      "  site_info.monkey site_info.region  labels.stimID  labels.person  \\\n",
      "0             bert               am              1              1   \n",
      "1             bert               am              1              1   \n",
      "2             bert               am              1              1   \n",
      "3             bert               am              1              1   \n",
      "4             bert               am              1              1   \n",
      "\n",
      "  labels.orientation labels.orient_person_combo  time.1_2  time.2_3  time.3_4  \\\n",
      "0              front                    front 1         0         0         0   \n",
      "1              front                    front 1         0         0         0   \n",
      "2              front                    front 1         0         0         0   \n",
      "3              front                    front 1         0         0         0   \n",
      "4              front                    front 1         0         0         0   \n",
      "\n",
      "   time.4_5  ...  time.791_792  time.792_793  time.793_794  time.794_795  \\\n",
      "0         0  ...             0             0             0             0   \n",
      "1         0  ...             0             0             0             0   \n",
      "2         0  ...             0             0             0             0   \n",
      "3         0  ...             0             0             0             0   \n",
      "4         0  ...             0             0             0             0   \n",
      "\n",
      "   time.795_796  time.796_797  time.797_798  time.798_799  time.799_800  \\\n",
      "0             0             0             0             0             0   \n",
      "1             0             0             0             0             0   \n",
      "2             0             0             0             0             0   \n",
      "3             0             0             0             0             0   \n",
      "4             0             0             0             0             0   \n",
      "\n",
      "   time.800_801  \n",
      "0             0  \n",
      "1             0  \n",
      "2             0  \n",
      "3             0  \n",
      "4             0  \n",
      "\n",
      "[5 rows x 806 columns]\n",
      "<class 'pandas.core.frame.DataFrame'>\n",
      "RangeIndex: 1600 entries, 0 to 1599\n",
      "Columns: 806 entries, site_info.monkey to time.800_801\n",
      "dtypes: int64(802), object(4)\n",
      "memory usage: 9.8+ MB\n",
      "None\n"
     ]
    }
   ],
   "source": [
    "\n",
    "# Define the dataset folder path\n",
    "folder_path = \"Freiwald_Tsao_faceviews_AM_data_csv\"\n",
    "\n",
    "# List all CSV files\n",
    "csv_files = [f for f in os.listdir(folder_path) if f.endswith('.csv')]\n",
    "\n",
    "# Load one sample file to inspect the structure\n",
    "sample_file = os.path.join(folder_path, csv_files[0])  # First CSV file\n",
    "df = pd.read_csv(sample_file)\n",
    "\n",
    "# Display info\n",
    "print(\"Dataset Loaded:\", sample_file)\n",
    "print(df.head())  # Show first few rows\n",
    "print(df.info())  # Column details\n",
    "\n"
   ]
  },
  {
   "cell_type": "markdown",
   "metadata": {},
   "source": [
    "### Handling Missing Data\n",
    "## The dataset has no explicit missing values, but we handle any potential issues."
   ]
  },
  {
   "cell_type": "code",
   "execution_count": 4,
   "metadata": {},
   "outputs": [
    {
     "name": "stdout",
     "output_type": "stream",
     "text": [
      "Dataset shape after cleaning: (1600, 806)\n"
     ]
    }
   ],
   "source": [
    "df = df.replace('?', np.nan)  # Convert '?' to NaN if applicable\n",
    "df = df.dropna()  # Drop rows with missing values\n",
    "print(\"Dataset shape after cleaning:\", df.shape)\n"
   ]
  },
  {
   "cell_type": "code",
   "execution_count": 5,
   "metadata": {},
   "outputs": [
    {
     "name": "stdout",
     "output_type": "stream",
     "text": [
      "site_info.monkey      object\n",
      "site_info.region      object\n",
      "labels.stimID          int64\n",
      "labels.person          int64\n",
      "labels.orientation    object\n",
      "                       ...  \n",
      "time.796_797           int64\n",
      "time.797_798           int64\n",
      "time.798_799           int64\n",
      "time.799_800           int64\n",
      "time.800_801           int64\n",
      "Length: 806, dtype: object\n"
     ]
    }
   ],
   "source": [
    "print(df.dtypes)  # Check column data types\n"
   ]
  },
  {
   "cell_type": "code",
   "execution_count": 23,
   "metadata": {},
   "outputs": [
    {
     "name": "stdout",
     "output_type": "stream",
     "text": [
      "First few rows:\n",
      "   labels.stimID  labels.person  time.1_2  time.2_3  time.3_4  time.4_5  \\\n",
      "0              1              1         0         0         0         0   \n",
      "1              1              1         0         0         0         0   \n",
      "2              1              1         0         0         0         0   \n",
      "3              1              1         0         0         0         0   \n",
      "4              1              1         0         0         0         0   \n",
      "\n",
      "   time.5_6  time.6_7  time.7_8  time.8_9  ...  \\\n",
      "0         0         0         0         0  ...   \n",
      "1         0         0         0         0  ...   \n",
      "2         0         0         0         0  ...   \n",
      "3         0         0         0         0  ...   \n",
      "4         0         0         0         0  ...   \n",
      "\n",
      "   labels.orient_person_combo_190  labels.orient_person_combo_191  \\\n",
      "0                           False                           False   \n",
      "1                           False                           False   \n",
      "2                           False                           False   \n",
      "3                           False                           False   \n",
      "4                           False                           False   \n",
      "\n",
      "   labels.orient_person_combo_192  labels.orient_person_combo_193  \\\n",
      "0                           False                           False   \n",
      "1                           False                           False   \n",
      "2                           False                           False   \n",
      "3                           False                           False   \n",
      "4                           False                           False   \n",
      "\n",
      "   labels.orient_person_combo_194  labels.orient_person_combo_195  \\\n",
      "0                           False                           False   \n",
      "1                           False                           False   \n",
      "2                           False                           False   \n",
      "3                           False                           False   \n",
      "4                           False                           False   \n",
      "\n",
      "   labels.orient_person_combo_196  labels.orient_person_combo_197  \\\n",
      "0                           False                           False   \n",
      "1                           False                           False   \n",
      "2                           False                           False   \n",
      "3                           False                           False   \n",
      "4                           False                           False   \n",
      "\n",
      "   labels.orient_person_combo_198  labels.orient_person_combo_199  \n",
      "0                           False                           False  \n",
      "1                           False                           False  \n",
      "2                           False                           False  \n",
      "3                           False                           False  \n",
      "4                           False                           False  \n",
      "\n",
      "[5 rows x 1012 columns]\n",
      "Column types:\n",
      "int64    802\n",
      "bool     210\n",
      "Name: count, dtype: int64\n",
      "Face identity distribution:\n",
      "labels.person\n",
      "1     66\n",
      "2     67\n",
      "3     63\n",
      "4     56\n",
      "5     63\n",
      "6     68\n",
      "7     68\n",
      "8     71\n",
      "9     63\n",
      "10    68\n",
      "11    62\n",
      "12    62\n",
      "13    71\n",
      "14    60\n",
      "15    69\n",
      "16    60\n",
      "17    63\n",
      "18    62\n",
      "19    64\n",
      "20    64\n",
      "21    62\n",
      "22    58\n",
      "23    61\n",
      "24    65\n",
      "25    64\n",
      "Name: count, dtype: int64\n"
     ]
    }
   ],
   "source": [
    "# Peek at the data\n",
    "print(\"First few rows:\")\n",
    "print(df.head())\n",
    "\n",
    "# Check what types of data we’re working with\n",
    "print(\"Column types:\")\n",
    "print(df.dtypes.value_counts())\n",
    "\n",
    "# See what categories we're predicting\n",
    "print(\"Face identity distribution:\")\n",
    "print(df['labels.person'].value_counts().sort_index())"
   ]
  },
  {
   "cell_type": "markdown",
   "metadata": {},
   "source": [
    "#plot of the neural activity for one trial:"
   ]
  },
  {
   "cell_type": "code",
   "execution_count": null,
   "metadata": {},
   "outputs": [],
   "source": []
  },
  {
   "cell_type": "code",
   "execution_count": 24,
   "metadata": {},
   "outputs": [
    {
     "data": {
      "image/png": "[encoded data removed]",
      "text/plain": [
       "<Figure size 640x480 with 1 Axes>"
      ]
     },
     "metadata": {},
     "output_type": "display_data"
    }
   ],
   "source": [
    "import matplotlib.pyplot as plt\n",
    "\n",
    "spike_columns = [col for col in df.columns if 'time.' in col]\n",
    "plt.plot(df.loc[0, spike_columns].values)\n",
    "plt.title(\"Neural Spike Pattern (One Trial)\")\n",
    "plt.xlabel(\"Time (ms)\")\n",
    "plt.ylabel(\"Neuron Fired (0 = No, 1 = Yes)\")\n",
    "plt.show()\n"
   ]
  },
  {
   "cell_type": "markdown",
   "metadata": {},
   "source": [
    "### Models for classification \n",
    "_(What models will you be using for classification? Why did you choose to use them? What questions would you answer with them? How would you evaluate if each model? What cross-validation method did you use?)_"
   ]
  },
  {
   "cell_type": "code",
   "execution_count": null,
   "metadata": {},
   "outputs": [],
   "source": []
  },
  {
   "cell_type": "markdown",
   "metadata": {},
   "source": [
    "### question 1 :Can we classify the face identity seen by the subject using neuron activity?"
   ]
  },
  {
   "cell_type": "code",
   "execution_count": null,
   "metadata": {},
   "outputs": [],
   "source": []
  },
  {
   "cell_type": "markdown",
   "metadata": {},
   "source": [
    "## Encode Categorical Variables"
   ]
  },
  {
   "cell_type": "code",
   "execution_count": 5,
   "metadata": {},
   "outputs": [
    {
     "name": "stdout",
     "output_type": "stream",
     "text": [
      "After encoding:\n",
      "   site_info.monkey  site_info.region  labels.orientation  \\\n",
      "0                 0                 0                   2   \n",
      "1                 0                 0                   2   \n",
      "2                 0                 0                   2   \n",
      "3                 0                 0                   2   \n",
      "4                 0                 0                   2   \n",
      "\n",
      "   labels.orient_person_combo  \n",
      "0                          50  \n",
      "1                          50  \n",
      "2                          50  \n",
      "3                          50  \n",
      "4                          50  \n"
     ]
    }
   ],
   "source": [
    "# Encode categorical columns\n",
    "label_encoder = LabelEncoder()\n",
    "\n",
    "categorical_cols = ['site_info.monkey', 'site_info.region', \n",
    "                    'labels.orientation', 'labels.orient_person_combo']\n",
    "\n",
    "for col in categorical_cols:\n",
    "    df[col] = label_encoder.fit_transform(df[col])\n",
    "\n",
    "print(\"After encoding:\")\n",
    "print(df[categorical_cols].head())\n"
   ]
  },
  {
   "cell_type": "markdown",
   "metadata": {},
   "source": [
    "## Set up Features and Labels\n",
    "## Train a Random Forest Classifier\n",
    "#### We'll use a Random Forest to classify which face identity (labels.person) the subject saw based on the neural activity."
   ]
  },
  {
   "cell_type": "code",
   "execution_count": 6,
   "metadata": {},
   "outputs": [
    {
     "name": "stdout",
     "output_type": "stream",
     "text": [
      "X_train shape: (1280, 804)\n",
      "y_train shape: (1280,)\n",
      "\n",
      "🌲 Random Forest Accuracy: 0.7031\n",
      "              precision    recall  f1-score   support\n",
      "\n",
      "           1       0.88      0.78      0.82         9\n",
      "           2       0.58      0.78      0.67         9\n",
      "           3       0.69      0.60      0.64        15\n",
      "           4       0.56      0.82      0.67        11\n",
      "           5       1.00      0.55      0.71        11\n",
      "           6       0.81      0.81      0.81        16\n",
      "           7       0.75      0.82      0.78        11\n",
      "           8       0.80      0.57      0.67        14\n",
      "           9       0.78      0.82      0.80        17\n",
      "          10       0.62      0.45      0.53        11\n",
      "          11       0.75      1.00      0.86         9\n",
      "          12       0.79      0.92      0.85        12\n",
      "          13       0.72      0.76      0.74        17\n",
      "          14       0.83      0.56      0.67         9\n",
      "          15       0.60      0.80      0.69        15\n",
      "          16       0.89      0.53      0.67        15\n",
      "          17       0.73      0.92      0.81        12\n",
      "          18       0.62      0.57      0.59        14\n",
      "          19       0.50      0.60      0.55        10\n",
      "          20       1.00      0.62      0.76        13\n",
      "          21       0.61      1.00      0.76        11\n",
      "          22       0.90      0.69      0.78        13\n",
      "          23       0.80      0.62      0.70        13\n",
      "          24       0.60      0.75      0.67        16\n",
      "          25       0.44      0.41      0.42        17\n",
      "\n",
      "    accuracy                           0.70       320\n",
      "   macro avg       0.73      0.71      0.70       320\n",
      "weighted avg       0.73      0.70      0.70       320\n",
      "\n",
      "\n",
      "🌲 Random Forest Accuracy: 0.7031\n",
      "              precision    recall  f1-score   support\n",
      "\n",
      "           1       0.88      0.78      0.82         9\n",
      "           2       0.58      0.78      0.67         9\n",
      "           3       0.69      0.60      0.64        15\n",
      "           4       0.56      0.82      0.67        11\n",
      "           5       1.00      0.55      0.71        11\n",
      "           6       0.81      0.81      0.81        16\n",
      "           7       0.75      0.82      0.78        11\n",
      "           8       0.80      0.57      0.67        14\n",
      "           9       0.78      0.82      0.80        17\n",
      "          10       0.62      0.45      0.53        11\n",
      "          11       0.75      1.00      0.86         9\n",
      "          12       0.79      0.92      0.85        12\n",
      "          13       0.72      0.76      0.74        17\n",
      "          14       0.83      0.56      0.67         9\n",
      "          15       0.60      0.80      0.69        15\n",
      "          16       0.89      0.53      0.67        15\n",
      "          17       0.73      0.92      0.81        12\n",
      "          18       0.62      0.57      0.59        14\n",
      "          19       0.50      0.60      0.55        10\n",
      "          20       1.00      0.62      0.76        13\n",
      "          21       0.61      1.00      0.76        11\n",
      "          22       0.90      0.69      0.78        13\n",
      "          23       0.80      0.62      0.70        13\n",
      "          24       0.60      0.75      0.67        16\n",
      "          25       0.44      0.41      0.42        17\n",
      "\n",
      "    accuracy                           0.70       320\n",
      "   macro avg       0.73      0.71      0.70       320\n",
      "weighted avg       0.73      0.70      0.70       320\n",
      "\n"
     ]
    }
   ],
   "source": [
    "# Define features (X) and labels (y)\n",
    "X = df.drop(columns=['labels.person', 'labels.stimID'])  # Features\n",
    "y = df['labels.person']  # Face identity (target)\n",
    "\n",
    "# Standardize the features\n",
    "scaler = StandardScaler()\n",
    "X_scaled = scaler.fit_transform(X)\n",
    "\n",
    "# Train-test split\n",
    "from sklearn.model_selection import train_test_split\n",
    "X_train, X_test, y_train, y_test = train_test_split(X_scaled, y, test_size=0.2, random_state=42)\n",
    "\n",
    "print(\"X_train shape:\", X_train.shape)\n",
    "print(\"y_train shape:\", y_train.shape)\n",
    "\n",
    "# Train Random Forest model\n",
    "rf_model = RandomForestClassifier(n_estimators=100, random_state=42)\n",
    "rf_model.fit(X_train, y_train)\n",
    "\n",
    "# Make predictions on the test set\n",
    "y_pred_rf = rf_model.predict(X_test)\n",
    "\n",
    "# Evaluate model performance\n",
    "print(\"\\n🌲 Random Forest Accuracy:\", round(accuracy_score(y_test, y_pred_rf), 4))\n",
    "print(classification_report(y_test, y_pred_rf))# Train Random Forest model\n",
    "rf_model = RandomForestClassifier(n_estimators=100, random_state=42)\n",
    "rf_model.fit(X_train, y_train)\n",
    "\n",
    "# Make predictions\n",
    "y_pred_rf = rf_model.predict(X_test)\n",
    "\n",
    "# Evaluate\n",
    "print(\"\\n🌲 Random Forest Accuracy:\", round(accuracy_score(y_test, y_pred_rf), 4))\n",
    "print(classification_report(y_test, y_pred_rf))\n",
    "\n"
   ]
  },
  {
   "cell_type": "markdown",
   "metadata": {},
   "source": [
    "#### Training the Random Forest model):"
   ]
  },
  {
   "cell_type": "code",
   "execution_count": 7,
   "metadata": {},
   "outputs": [
    {
     "name": "stdout",
     "output_type": "stream",
     "text": [
      "\n",
      "🌲 Random Forest Accuracy: 0.7031\n",
      "              precision    recall  f1-score   support\n",
      "\n",
      "           1       0.88      0.78      0.82         9\n",
      "           2       0.58      0.78      0.67         9\n",
      "           3       0.69      0.60      0.64        15\n",
      "           4       0.56      0.82      0.67        11\n",
      "           5       1.00      0.55      0.71        11\n",
      "           6       0.81      0.81      0.81        16\n",
      "           7       0.75      0.82      0.78        11\n",
      "           8       0.80      0.57      0.67        14\n",
      "           9       0.78      0.82      0.80        17\n",
      "          10       0.62      0.45      0.53        11\n",
      "          11       0.75      1.00      0.86         9\n",
      "          12       0.79      0.92      0.85        12\n",
      "          13       0.72      0.76      0.74        17\n",
      "          14       0.83      0.56      0.67         9\n",
      "          15       0.60      0.80      0.69        15\n",
      "          16       0.89      0.53      0.67        15\n",
      "          17       0.73      0.92      0.81        12\n",
      "          18       0.62      0.57      0.59        14\n",
      "          19       0.50      0.60      0.55        10\n",
      "          20       1.00      0.62      0.76        13\n",
      "          21       0.61      1.00      0.76        11\n",
      "          22       0.90      0.69      0.78        13\n",
      "          23       0.80      0.62      0.70        13\n",
      "          24       0.60      0.75      0.67        16\n",
      "          25       0.44      0.41      0.42        17\n",
      "\n",
      "    accuracy                           0.70       320\n",
      "   macro avg       0.73      0.71      0.70       320\n",
      "weighted avg       0.73      0.70      0.70       320\n",
      "\n"
     ]
    }
   ],
   "source": [
    "# Train Random Forest model\n",
    "rf_model = RandomForestClassifier(n_estimators=100, random_state=42)\n",
    "rf_model.fit(X_train, y_train)\n",
    "\n",
    "# Make predictions\n",
    "y_pred_rf = rf_model.predict(X_test)\n",
    "\n",
    "# Evaluate\n",
    "print(\"\\n🌲 Random Forest Accuracy:\", round(accuracy_score(y_test, y_pred_rf), 4))\n",
    "print(classification_report(y_test, y_pred_rf))\n"
   ]
  },
  {
   "cell_type": "markdown",
   "metadata": {},
   "source": [
    "# Import visualization tools"
   ]
  },
  {
   "cell_type": "code",
   "execution_count": 8,
   "metadata": {},
   "outputs": [
    {
     "data": {
      "image/png": "[encoded data removed]",
      "text/plain": [
       "<Figure size 1200x800 with 2 Axes>"
      ]
     },
     "metadata": {},
     "output_type": "display_data"
    }
   ],
   "source": [
    "import matplotlib.pyplot as plt\n",
    "import seaborn as sns\n",
    "from sklearn.metrics import confusion_matrix\n",
    "\n",
    "# Create the confusion matrix\n",
    "cm = confusion_matrix(y_test, y_pred_rf)\n",
    "\n",
    "# Plot it\n",
    "plt.figure(figsize=(12, 8))\n",
    "sns.heatmap(cm, cmap='Blues', xticklabels=np.unique(y), yticklabels=np.unique(y))\n",
    "plt.xlabel(\"Predicted Label\")\n",
    "plt.ylabel(\"True Label\")\n",
    "plt.title(\"Confusion Matrix - Random Forest\")\n",
    "plt.show()\n"
   ]
  },
  {
   "cell_type": "markdown",
   "metadata": {},
   "source": [
    "#  7A. Train & Evaluate Support Vector Classifier (SVC)"
   ]
  },
  {
   "cell_type": "code",
   "execution_count": 9,
   "metadata": {
    "scrolled": true
   },
   "outputs": [
    {
     "name": "stdout",
     "output_type": "stream",
     "text": [
      "\n",
      "🔷 SVC Accuracy: 0.0813\n",
      "              precision    recall  f1-score   support\n",
      "\n",
      "           1       0.00      0.00      0.00         9\n",
      "           2       0.00      0.00      0.00         9\n",
      "           3       0.00      0.00      0.00        15\n",
      "           4       0.00      0.00      0.00        11\n",
      "           5       0.00      0.00      0.00        11\n",
      "           6       0.00      0.00      0.00        16\n",
      "           7       0.08      0.18      0.11        11\n",
      "           8       0.03      0.14      0.04        14\n",
      "           9       0.54      0.41      0.47        17\n",
      "          10       0.50      0.09      0.15        11\n",
      "          11       0.20      0.22      0.21         9\n",
      "          12       0.00      0.00      0.00        12\n",
      "          13       0.00      0.00      0.00        17\n",
      "          14       0.00      0.00      0.00         9\n",
      "          15       0.06      0.20      0.09        15\n",
      "          16       0.25      0.07      0.11        15\n",
      "          17       0.06      0.42      0.11        12\n",
      "          18       0.33      0.07      0.12        14\n",
      "          19       0.00      0.00      0.00        10\n",
      "          20       0.00      0.00      0.00        13\n",
      "          21       0.00      0.00      0.00        11\n",
      "          22       0.25      0.08      0.12        13\n",
      "          23       0.00      0.00      0.00        13\n",
      "          24       0.33      0.06      0.11        16\n",
      "          25       0.00      0.00      0.00        17\n",
      "\n",
      "    accuracy                           0.08       320\n",
      "   macro avg       0.11      0.08      0.07       320\n",
      "weighted avg       0.11      0.08      0.07       320\n",
      "\n"
     ]
    },
    {
     "name": "stderr",
     "output_type": "stream",
     "text": [
      "/opt/miniconda3/lib/python3.11/site-packages/sklearn/metrics/_classification.py:1565: UndefinedMetricWarning: Precision is ill-defined and being set to 0.0 in labels with no predicted samples. Use `zero_division` parameter to control this behavior.\n",
      "  _warn_prf(average, modifier, f\"{metric.capitalize()} is\", len(result))\n",
      "/opt/miniconda3/lib/python3.11/site-packages/sklearn/metrics/_classification.py:1565: UndefinedMetricWarning: Precision is ill-defined and being set to 0.0 in labels with no predicted samples. Use `zero_division` parameter to control this behavior.\n",
      "  _warn_prf(average, modifier, f\"{metric.capitalize()} is\", len(result))\n",
      "/opt/miniconda3/lib/python3.11/site-packages/sklearn/metrics/_classification.py:1565: UndefinedMetricWarning: Precision is ill-defined and being set to 0.0 in labels with no predicted samples. Use `zero_division` parameter to control this behavior.\n",
      "  _warn_prf(average, modifier, f\"{metric.capitalize()} is\", len(result))\n"
     ]
    }
   ],
   "source": [
    "# Train SVC\n",
    "svc_model = SVC(kernel='linear')\n",
    "svc_model.fit(X_train, y_train)\n",
    "\n",
    "# Predict\n",
    "y_pred_svc = svc_model.predict(X_test)\n",
    "\n",
    "# Evaluate\n",
    "print(\"\\n🔷 SVC Accuracy:\", round(accuracy_score(y_test, y_pred_svc), 4))\n",
    "print(classification_report(y_test, y_pred_svc))\n"
   ]
  },
  {
   "cell_type": "markdown",
   "metadata": {},
   "source": [
    "# 7B. Train & Evaluate K-Nearest Neighbors (KNN)"
   ]
  },
  {
   "cell_type": "code",
   "execution_count": 10,
   "metadata": {},
   "outputs": [
    {
     "name": "stdout",
     "output_type": "stream",
     "text": [
      "\n",
      "🔸 KNN Accuracy: 0.5781\n",
      "              precision    recall  f1-score   support\n",
      "\n",
      "           1       0.73      0.89      0.80         9\n",
      "           2       0.32      0.89      0.47         9\n",
      "           3       0.56      0.67      0.61        15\n",
      "           4       0.15      0.18      0.17        11\n",
      "           5       0.50      0.55      0.52        11\n",
      "           6       0.67      0.88      0.76        16\n",
      "           7       0.64      0.64      0.64        11\n",
      "           8       1.00      0.29      0.44        14\n",
      "           9       0.61      0.82      0.70        17\n",
      "          10       0.86      0.55      0.67        11\n",
      "          11       0.46      0.67      0.55         9\n",
      "          12       0.47      0.58      0.52        12\n",
      "          13       0.78      0.41      0.54        17\n",
      "          14       0.75      0.33      0.46         9\n",
      "          15       0.70      0.93      0.80        15\n",
      "          16       1.00      0.53      0.70        15\n",
      "          17       0.42      0.83      0.56        12\n",
      "          18       0.75      0.21      0.33        14\n",
      "          19       0.50      0.20      0.29        10\n",
      "          20       0.80      0.31      0.44        13\n",
      "          21       0.48      1.00      0.65        11\n",
      "          22       0.88      0.54      0.67        13\n",
      "          23       0.65      0.85      0.73        13\n",
      "          24       0.57      0.50      0.53        16\n",
      "          25       0.71      0.29      0.42        17\n",
      "\n",
      "    accuracy                           0.58       320\n",
      "   macro avg       0.64      0.58      0.56       320\n",
      "weighted avg       0.65      0.58      0.56       320\n",
      "\n"
     ]
    }
   ],
   "source": [
    "# Train KNN\n",
    "knn_model = KNeighborsClassifier(n_neighbors=5)\n",
    "knn_model.fit(X_train, y_train)\n",
    "\n",
    "# Predict\n",
    "y_pred_knn = knn_model.predict(X_test)\n",
    "\n",
    "# Evaluate\n",
    "print(\"\\n🔸 KNN Accuracy:\", round(accuracy_score(y_test, y_pred_knn), 4))\n",
    "print(classification_report(y_test, y_pred_knn))\n"
   ]
  },
  {
   "cell_type": "code",
   "execution_count": 11,
   "metadata": {},
   "outputs": [
    {
     "name": "stdout",
     "output_type": "stream",
     "text": [
      "\n",
      "📊 Model Comparison:\n",
      "Random Forest Accuracy: 0.7031\n",
      "SVC Accuracy: 0.0813\n",
      "KNN Accuracy: 0.5781\n"
     ]
    }
   ],
   "source": [
    "# Accuracy summary\n",
    "print(\"\\n📊 Model Comparison:\")\n",
    "print(\"Random Forest Accuracy:\", round(accuracy_score(y_test, y_pred_rf), 4))\n",
    "print(\"SVC Accuracy:\", round(accuracy_score(y_test, y_pred_svc), 4))\n",
    "print(\"KNN Accuracy:\", round(accuracy_score(y_test, y_pred_knn), 4))\n"
   ]
  },
  {
   "cell_type": "markdown",
   "metadata": {},
   "source": [
    "####  Exploratory Data Analysis (EDA) Now, let's analyze the data to understand its distribution.\n",
    "### Check the Distribution of Labels (Face Identity & Orientation)"
   ]
  },
  {
   "cell_type": "code",
   "execution_count": 12,
   "metadata": {},
   "outputs": [
    {
     "data": {
      "image/png": "[encoded data removed]",
      "text/plain": [
       "<Figure size 1000x400 with 1 Axes>"
      ]
     },
     "metadata": {},
     "output_type": "display_data"
    },
    {
     "data": {
      "image/png": "[encoded data removed]",
      "text/plain": [
       "<Figure size 800x400 with 1 Axes>"
      ]
     },
     "metadata": {},
     "output_type": "display_data"
    }
   ],
   "source": [
    "\n",
    "plt.figure(figsize=(10, 4))\n",
    "\n",
    "# Count of different individuals in the dataset\n",
    "sns.countplot(x=df[\"labels.person\"])\n",
    "plt.title(\"Distribution of Face Identities in Dataset\")\n",
    "plt.xlabel(\"Person ID\")\n",
    "plt.ylabel(\"Count\")\n",
    "plt.show()\n",
    "\n",
    "plt.figure(figsize=(8, 4))\n",
    "\n",
    "# Count of different orientations\n",
    "sns.countplot(x=df[\"labels.orientation\"])\n",
    "plt.title(\"Distribution of Head Orientations\")\n",
    "plt.xlabel(\"Orientation\")\n",
    "plt.ylabel(\"Count\")\n",
    "plt.xticks(rotation=45)\n",
    "plt.show()\n"
   ]
  },
  {
   "cell_type": "code",
   "execution_count": 13,
   "metadata": {},
   "outputs": [],
   "source": [
    "df = pd.get_dummies(df, columns=['site_info.monkey', 'site_info.region', 'labels.orientation', 'labels.orient_person_combo'])\n",
    "\n",
    "# Drop non-feature columns (target variable and any metadata not needed)\n",
    "X = df.drop(columns=['labels.person', 'labels.stimID'])\n",
    "y = df['labels.person']  # Target variable\n",
    "\n",
    "# Train-test split\n",
    "X_train, X_test, y_train, y_test = train_test_split(X, y, test_size=0.2, random_state=42)\n",
    "\n",
    "# Standardizing numerical features\n",
    "scaler = StandardScaler()\n",
    "X_train = scaler.fit_transform(X_train)\n",
    "X_test = scaler.transform(X_test)\n"
   ]
  },
  {
   "cell_type": "code",
   "execution_count": 14,
   "metadata": {},
   "outputs": [
    {
     "name": "stdout",
     "output_type": "stream",
     "text": [
      "Random Forest Classifier Accuracy: 1.0\n",
      "              precision    recall  f1-score   support\n",
      "\n",
      "           1       1.00      1.00      1.00         9\n",
      "           2       1.00      1.00      1.00         9\n",
      "           3       1.00      1.00      1.00        15\n",
      "           4       1.00      1.00      1.00        11\n",
      "           5       1.00      1.00      1.00        11\n",
      "           6       1.00      1.00      1.00        16\n",
      "           7       1.00      1.00      1.00        11\n",
      "           8       1.00      1.00      1.00        14\n",
      "           9       1.00      1.00      1.00        17\n",
      "          10       1.00      1.00      1.00        11\n",
      "          11       1.00      1.00      1.00         9\n",
      "          12       1.00      1.00      1.00        12\n",
      "          13       1.00      1.00      1.00        17\n",
      "          14       1.00      1.00      1.00         9\n",
      "          15       1.00      1.00      1.00        15\n",
      "          16       1.00      1.00      1.00        15\n",
      "          17       1.00      1.00      1.00        12\n",
      "          18       1.00      1.00      1.00        14\n",
      "          19       1.00      1.00      1.00        10\n",
      "          20       1.00      1.00      1.00        13\n",
      "          21       1.00      1.00      1.00        11\n",
      "          22       1.00      1.00      1.00        13\n",
      "          23       1.00      1.00      1.00        13\n",
      "          24       1.00      1.00      1.00        16\n",
      "          25       1.00      1.00      1.00        17\n",
      "\n",
      "    accuracy                           1.00       320\n",
      "   macro avg       1.00      1.00      1.00       320\n",
      "weighted avg       1.00      1.00      1.00       320\n",
      "\n"
     ]
    }
   ],
   "source": [
    "rf_model = RandomForestClassifier(n_estimators=100, random_state=42)\n",
    "rf_model.fit(X_train, y_train)\n",
    "y_pred_rf = rf_model.predict(X_test)\n",
    "\n",
    "# Evaluate performance\n",
    "print(\"Random Forest Classifier Accuracy:\", accuracy_score(y_test, y_pred_rf))\n",
    "print(classification_report(y_test, y_pred_rf))\n"
   ]
  },
  {
   "cell_type": "code",
   "execution_count": 15,
   "metadata": {},
   "outputs": [
    {
     "name": "stdout",
     "output_type": "stream",
     "text": [
      "SVM Accuracy: 0.996875\n",
      "              precision    recall  f1-score   support\n",
      "\n",
      "           1       1.00      1.00      1.00         9\n",
      "           2       1.00      1.00      1.00         9\n",
      "           3       1.00      1.00      1.00        15\n",
      "           4       1.00      1.00      1.00        11\n",
      "           5       1.00      1.00      1.00        11\n",
      "           6       1.00      1.00      1.00        16\n",
      "           7       1.00      1.00      1.00        11\n",
      "           8       1.00      1.00      1.00        14\n",
      "           9       1.00      1.00      1.00        17\n",
      "          10       1.00      1.00      1.00        11\n",
      "          11       1.00      1.00      1.00         9\n",
      "          12       1.00      1.00      1.00        12\n",
      "          13       1.00      1.00      1.00        17\n",
      "          14       1.00      1.00      1.00         9\n",
      "          15       1.00      1.00      1.00        15\n",
      "          16       1.00      1.00      1.00        15\n",
      "          17       1.00      1.00      1.00        12\n",
      "          18       1.00      1.00      1.00        14\n",
      "          19       1.00      1.00      1.00        10\n",
      "          20       1.00      1.00      1.00        13\n",
      "          21       1.00      1.00      1.00        11\n",
      "          22       1.00      0.92      0.96        13\n",
      "          23       1.00      1.00      1.00        13\n",
      "          24       1.00      1.00      1.00        16\n",
      "          25       0.94      1.00      0.97        17\n",
      "\n",
      "    accuracy                           1.00       320\n",
      "   macro avg       1.00      1.00      1.00       320\n",
      "weighted avg       1.00      1.00      1.00       320\n",
      "\n"
     ]
    }
   ],
   "source": [
    "svm_model = SVC(kernel='linear')\n",
    "svm_model.fit(X_train, y_train)\n",
    "y_pred_svm = svm_model.predict(X_test)\n",
    "\n",
    "# Evaluate performance\n",
    "print(\"SVM Accuracy:\", accuracy_score(y_test, y_pred_svm))\n",
    "print(classification_report(y_test, y_pred_svm))\n"
   ]
  },
  {
   "cell_type": "markdown",
   "metadata": {},
   "source": [
    "##  k-Fold Cross-Validation (Random Forest)"
   ]
  },
  {
   "cell_type": "code",
   "execution_count": 18,
   "metadata": {},
   "outputs": [
    {
     "name": "stdout",
     "output_type": "stream",
     "text": [
      " Random Forest CV Scores: [0.246875 0.3375   0.4875   0.34375  0.2875  ]\n",
      "Average CV Accuracy (Random Forest): 0.3406\n"
     ]
    }
   ],
   "source": [
    "from sklearn.model_selection import cross_val_score\n",
    "\n",
    "# Perform 5-fold cross-validation on the entire scaled dataset\n",
    "cv_scores_rf = cross_val_score(rf_model, X_scaled, y, cv=5)\n",
    "\n",
    "print(\" Random Forest CV Scores:\", cv_scores_rf)\n",
    "print(\"Average CV Accuracy (Random Forest):\", round(np.mean(cv_scores_rf), 4))\n"
   ]
  },
  {
   "cell_type": "markdown",
   "metadata": {},
   "source": [
    "# Cross-Validation for SVC and KNN"
   ]
  },
  {
   "cell_type": "code",
   "execution_count": 20,
   "metadata": {},
   "outputs": [
    {
     "name": "stdout",
     "output_type": "stream",
     "text": [
      "🔷 SVC CV Accuracy: 0.075\n",
      "🔸 KNN CV Accuracy: 0.1625\n"
     ]
    }
   ],
   "source": [
    "cv_scores_svc = cross_val_score(svc_model, X_scaled, y, cv=5)\n",
    "cv_scores_knn = cross_val_score(knn_model, X_scaled, y, cv=5)\n",
    "\n",
    "print(\"🔷 SVC CV Accuracy:\", round(np.mean(cv_scores_svc), 4))\n",
    "print(\"🔸 KNN CV Accuracy:\", round(np.mean(cv_scores_knn), 4))\n"
   ]
  },
  {
   "cell_type": "code",
   "execution_count": null,
   "metadata": {},
   "outputs": [],
   "source": []
  },
  {
   "cell_type": "code",
   "execution_count": null,
   "metadata": {},
   "outputs": [],
   "source": []
  },
  {
   "cell_type": "markdown",
   "metadata": {
    "vscode": {
     "languageId": "plaintext"
    }
   },
   "source": [
    "### Data\n",
    "_(Describe the data you are using. What variables are you using? What they mean? Why did you choose them?)_"
   ]
  },
  {
   "cell_type": "markdown",
   "metadata": {},
   "source": [
    "##### The dataset we used comes from a neuroscience experiment where a monkey passively viewed images of human faces. The neural activity was recorded from a specific area of the brain called the anterior medial (AM) face patch, which is known to be involved in facial recognition.\n",
    "\n",
    "##### Each row in the dataset represents a single trial, meaning one face image shown to the monkey. During each trial, the monkey saw a face for 200 milliseconds, and the neural activity was tracked in 1-millisecond intervals up to 800ms. This gives us a detailed view of how the brain responds over time."
   ]
  },
  {
   "cell_type": "code",
   "execution_count": 10,
   "metadata": {},
   "outputs": [],
   "source": [
    "# you may need some code here to adjust the format or organization of your data so that\n",
    "# they can be used for the model\n"
   ]
  },
  {
   "cell_type": "markdown",
   "metadata": {},
   "source": [
    "## What’s in the data?"
   ]
  },
  {
   "cell_type": "markdown",
   "metadata": {},
   "source": [
    "##### labels.person – This is the identity of the person in the face image (used as our classification label).\n",
    "##### labels.orientation – This tells us the direction the face was looking (used later for regression).\n",
    "##### time.1_2 to time.800_801 – These columns represent the neural spikes. A 1 means the neuron fired at that millisecond, and a 0 means it didn’t.\n",
    "##### Other columns – There are also some metadata columns like which monkey the data came from and which region of the brain was recorded.These were useful for exploration but not critical for modeling."
   ]
  },
  {
   "cell_type": "markdown",
   "metadata": {},
   "source": [
    "### Models for classification _(if applicable)_\n",
    "_(What models will you be using for classification? Why did you choose to use them? What questions would you answer with them? How would you evaluate if each model? What cross-validation method did you use?)_"
   ]
  },
  {
   "cell_type": "code",
   "execution_count": 12,
   "metadata": {},
   "outputs": [],
   "source": [
    "# you may add some code here to show how the model works in principle"
   ]
  },
  {
   "cell_type": "markdown",
   "metadata": {},
   "source": [
    "### Models for regression _(if applicable)_\n",
    "_(What models will you be using for regression? Why did you choose to use them? What questions would you answer with them? How would you evaluate if each model? What cross-validation method did you use?)_"
   ]
  },
  {
   "cell_type": "code",
   "execution_count": 13,
   "metadata": {},
   "outputs": [],
   "source": [
    "# you may add some code here to show how the model works in principle"
   ]
  },
  {
   "cell_type": "markdown",
   "metadata": {},
   "source": [
    "### Other methods used _(if applicable)_\n",
    "\n",
    "_(If this is a preprocessing step to prepare your data for regression or classification models, you should put this subsection before your explanation for the regression or classification models.)_\n",
    "\n",
    "_(What method did you use otherwise? Why did you choose to use them? What questions would you answer with them? How would you evaluate the results? What cross-validation method did you use when applicable?)_"
   ]
  },
  {
   "cell_type": "code",
   "execution_count": 14,
   "metadata": {},
   "outputs": [],
   "source": [
    "# you may add some code here to show how the method works in principle"
   ]
  },
  {
   "cell_type": "markdown",
   "metadata": {},
   "source": [
    "# you may add some code here to show how the model works in principle"
   ]
  },
  {
   "cell_type": "markdown",
   "metadata": {},
   "source": [
    "## Results"
   ]
  },
  {
   "cell_type": "markdown",
   "metadata": {},
   "source": [
    "_(What did you find when you carried out your methods? Some of your code related to\n",
    "presenting results/figures/data may be replicated from the methods section or may only be present in\n",
    "this section. All of the plots that you plan on using for your presentation should be present in this\n",
    "section)_"
   ]
  },
  {
   "cell_type": "markdown",
   "metadata": {},
   "source": [
    "### classification results\n",
    "_(What are you trying to do here?)_"
   ]
  },
  {
   "cell_type": "code",
   "execution_count": 15,
   "metadata": {},
   "outputs": [],
   "source": [
    "# how did you do it"
   ]
  },
  {
   "cell_type": "markdown",
   "metadata": {},
   "source": [
    "_(How do you interpret what you see?)_\n",
    "\n",
    "_(What are you doing next?)_"
   ]
  },
  {
   "cell_type": "code",
   "execution_count": 16,
   "metadata": {},
   "outputs": [],
   "source": [
    "# how did you do it (etc. etc.)"
   ]
  },
  {
   "cell_type": "markdown",
   "metadata": {},
   "source": [
    "### regression results\n",
    "_(What are you trying to do here?)_"
   ]
  },
  {
   "cell_type": "code",
   "execution_count": 17,
   "metadata": {},
   "outputs": [],
   "source": [
    "# how did you do it"
   ]
  },
  {
   "cell_type": "markdown",
   "metadata": {},
   "source": [
    "_(How do you interpret what you see?)_\n",
    "\n",
    "_(What are you doing next?)_"
   ]
  },
  {
   "cell_type": "code",
   "execution_count": 18,
   "metadata": {},
   "outputs": [],
   "source": [
    "# how did you do it (etc. etc.)"
   ]
  },
  {
   "cell_type": "markdown",
   "metadata": {},
   "source": [
    "### other results\n",
    "_(What are you trying to do here?)_"
   ]
  },
  {
   "cell_type": "code",
   "execution_count": 19,
   "metadata": {},
   "outputs": [],
   "source": [
    "# how did you do it"
   ]
  },
  {
   "cell_type": "markdown",
   "metadata": {},
   "source": [
    "_(How do you interpret what you see?)_\n",
    "\n",
    "_(What are you doing next?)_"
   ]
  },
  {
   "cell_type": "code",
   "execution_count": 20,
   "metadata": {},
   "outputs": [],
   "source": [
    "# how did you do it (etc. etc.)"
   ]
  },
  {
   "cell_type": "markdown",
   "metadata": {},
   "source": [
    "## Discussion and Conclusion"
   ]
  },
  {
   "cell_type": "markdown",
   "metadata": {},
   "source": [
    "_(What did you learn from your results? What obstacles did you run into? What would you do differently next time? Clearly provide quantitative answers to your question(s)?  At least one of your questions should be answered with numbers.  That is, it is not sufficient to answer \"yes\" or \"no\", but rather to say something quantitative such as variable 1 increased roughly 10% for every 1 year increase in variable 2.)_"
   ]
  },
  {
   "cell_type": "markdown",
   "metadata": {},
   "source": [
    "### discussion on the classification results"
   ]
  },
  {
   "cell_type": "markdown",
   "metadata": {},
   "source": [
    "### discussion on the other results"
   ]
  },
  {
   "cell_type": "markdown",
   "metadata": {},
   "source": [
    "### conclusion and future steps"
   ]
  },
  {
   "cell_type": "markdown",
   "metadata": {},
   "source": [
    "## Author contribution\n",
    "\n",
    "_(Please describe the contribution of each member of group)._"
   ]
  },
  {
   "cell_type": "markdown",
   "metadata": {},
   "source": [
    "## References"
   ]
  },
  {
   "cell_type": "markdown",
   "metadata": {},
   "source": [
    "_(List the source(s) for any data and/or literature cited in your project.  Ideally, this should be formatted using a formal citation format (MLA or APA or other, your choice!).   Multiple free online citation generators are available such as <a href=\"http://www.easybib.com/style\">http://www.easybib.com/style</a>. **Important:** if you use **any** code that you find on the internet for your project you **must** cite it or you risk losing most/all of the points for you project.)_\n",
    "\n",
    "### Freiwald, W. A., & Tsao, D. Y. (2010). Functional compartmentalization and viewpoint generalization within the macaque face-processing system. Science, 330(6005), 845-851.\n",
    "\n",
    "### Meyers, E. M., Borzello, M., Freiwald, W. A., & Tsao, D. (2015). Intelligent information loss: The coding of facial identity, head pose, and non-face information in the macaque face patch system. Journal of Neuroscience, 35(18)\n",
    "\n",
    "### “Seaborn.Countplot#.” Seaborn.Countplot - Seaborn 0.13.2 Documentation, seaborn.pydata.org/generated/seaborn.countplot.html. Accessed 5 Mar. 2025. "
   ]
  }
 ],
 "metadata": {
  "kernelspec": {
   "display_name": "Python 3.11 (default)",
   "language": "python",
   "name": "python3"
  },
  "language_info": {
   "codemirror_mode": {
    "name": "ipython",
    "version": 3
   },
   "file_extension": ".py",
   "mimetype": "text/x-python",
   "name": "python",
   "nbconvert_exporter": "python",
   "pygments_lexer": "ipython3",
   "version": "3.11.11"
  }
 },
 "nbformat": 4,
 "nbformat_minor": 4
}
