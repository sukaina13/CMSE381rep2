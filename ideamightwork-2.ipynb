{
 "cells": [
  {
   "cell_type": "markdown",
   "metadata": {},
   "source": [
    "# CMSE 381 Final Project Template"
   ]
  },
  {
   "cell_type": "markdown",
   "metadata": {},
   "source": [
    "#### CMSE 381 Final Project\n",
    "###  Group members: Sukaina Alkhalidy, Sherry\n",
    "###  Section_001\n",
    "####  The Freiwald Tsao Face View AM dataset"
   ]
  },
  {
   "cell_type": "markdown",
   "metadata": {},
   "source": [
    "# Neural Decoding of Faces and Head Orientation"
   ]
  },
  {
   "cell_type": "markdown",
   "metadata": {},
   "source": [
    "# Background and Motivation"
   ]
  },
  {
   "cell_type": "markdown",
   "metadata": {},
   "source": [
    "_(Provide context for the problem.  **Clearly state the question(s) you set\n",
    "out to answer.**)_"
   ]
  },
  {
   "cell_type": "markdown",
   "metadata": {},
   "source": [
    "Facial recognition is a fundamental human ability. We can effortlessly recognize faces—even when partially obscured or viewed from different angles. This project investigates the neural basis of this capability using real brain data. Specifically, we analyze neural spike activity recorded from the anterior medial (AM) face patch in macaque monkeys as they viewed images of 25 human faces shown from 8 different orientations.\n",
    "\n",
    "Our primary question is: Can we decode the face identity viewed by the subject solely from neural spike data?\n",
    "\n",
    "This type of problem, known as neural decoding, has applications in neuroscience, artificial intelligence, and future brain-computer interfaces. We aim to:Classify face identity from neural responses. Compare the performance of multiple classifiers (Random Forest, SVC, KNN).Identify the most informative neurons and time windows for decoding."
   ]
  },
  {
   "cell_type": "markdown",
   "metadata": {},
   "source": [
    "\n",
    "# question 1 :Can we classify the face identity seen by the subject using neuron activity?"
   ]
  },
  {
   "cell_type": "markdown",
   "metadata": {},
   "source": [
    "## Methodology\n",
    "_(How did you go about answering your question(s)? You should wrote some code here to demonstrate what the data is like and how in principle your method works. You can leave the variations of the related to specific results to the results section.)_"
   ]
  },
  {
   "cell_type": "markdown",
   "metadata": {},
   "source": [
    "# importing everything "
   ]
  },
  {
   "cell_type": "code",
   "execution_count": 1,
   "metadata": {},
   "outputs": [
    {
     "name": "stdout",
     "output_type": "stream",
     "text": [
      "Defaulting to user installation because normal site-packages is not writeable\n",
      "Requirement already satisfied: numpy<2 in /home/alkhal13/.local/lib/python3.11/site-packages (1.26.4)\n",
      "Requirement already satisfied: matplotlib in /home/alkhal13/.local/lib/python3.11/site-packages (3.7.1)\n",
      "Requirement already satisfied: contourpy>=1.0.1 in /opt/miniconda3/lib/python3.11/site-packages (from matplotlib) (1.3.1)\n",
      "Requirement already satisfied: cycler>=0.10 in /opt/miniconda3/lib/python3.11/site-packages (from matplotlib) (0.12.1)\n",
      "Requirement already satisfied: fonttools>=4.22.0 in /opt/miniconda3/lib/python3.11/site-packages (from matplotlib) (4.55.3)\n",
      "Requirement already satisfied: kiwisolver>=1.0.1 in /opt/miniconda3/lib/python3.11/site-packages (from matplotlib) (1.4.7)\n",
      "Requirement already satisfied: packaging>=20.0 in /opt/miniconda3/lib/python3.11/site-packages (from matplotlib) (24.2)\n",
      "Requirement already satisfied: pillow>=6.2.0 in /opt/miniconda3/lib/python3.11/site-packages (from matplotlib) (10.2.0)\n",
      "Requirement already satisfied: pyparsing>=2.3.1 in /opt/miniconda3/lib/python3.11/site-packages (from matplotlib) (3.2.1)\n",
      "Requirement already satisfied: python-dateutil>=2.7 in /opt/miniconda3/lib/python3.11/site-packages (from matplotlib) (2.9.0.post0)\n",
      "Requirement already satisfied: six>=1.5 in /opt/miniconda3/lib/python3.11/site-packages (from python-dateutil>=2.7->matplotlib) (1.17.0)\n",
      "Note: you may need to restart the kernel to use updated packages.\n"
     ]
    }
   ],
   "source": [
    "pip install \"numpy<2\" matplotlib"
   ]
  },
  {
   "cell_type": "code",
   "execution_count": 2,
   "metadata": {},
   "outputs": [],
   "source": [
    "import os\n",
    "import numpy as np\n",
    "import pandas as pd\n",
    "import matplotlib.pyplot as plt\n",
    "import seaborn as sns\n",
    "\n",
    "from sklearn.model_selection import train_test_split, cross_val_score\n",
    "from sklearn.preprocessing import StandardScaler, LabelEncoder, PolynomialFeatures\n",
    "from sklearn.ensemble import RandomForestClassifier\n",
    "from sklearn.svm import SVC\n",
    "from sklearn.neighbors import KNeighborsClassifier\n",
    "from sklearn.linear_model import LogisticRegression\n",
    "from sklearn.pipeline import make_pipeline\n",
    "from sklearn.metrics import accuracy_score, classification_report, confusion_matrix\n",
    "\n",
    "# Enable inline plotting for Jupyter Notebook\n",
    "%matplotlib inline\n",
    "\n"
   ]
  },
  {
   "cell_type": "markdown",
   "metadata": {},
   "source": [
    "# First, we load the dataset from the extracted folder and inspect its structure."
   ]
  },
  {
   "cell_type": "code",
   "execution_count": 3,
   "metadata": {},
   "outputs": [
    {
     "name": "stdout",
     "output_type": "stream",
     "text": [
      "Combined DataFrame shape: (187658, 806)\n",
      "  site_info.monkey site_info.region  labels.stimID  labels.person  \\\n",
      "0             bert               am              1              1   \n",
      "1             bert               am              1              1   \n",
      "2             bert               am              1              1   \n",
      "3             bert               am              2              2   \n",
      "4             bert               am              2              2   \n",
      "\n",
      "  labels.orientation labels.orient_person_combo  time.1_2  time.2_3  time.3_4  \\\n",
      "0              front                    front 1         0         0         0   \n",
      "1              front                    front 1         0         0         0   \n",
      "2              front                    front 1         0         0         0   \n",
      "3              front                    front 2         0         0         0   \n",
      "4              front                    front 2         0         1         0   \n",
      "\n",
      "   time.4_5  ...  time.791_792  time.792_793  time.793_794  time.794_795  \\\n",
      "0         0  ...             0             0             0             0   \n",
      "1         0  ...             0             0             0             0   \n",
      "2         0  ...             0             0             0             0   \n",
      "3         0  ...             0             0             0             0   \n",
      "4         0  ...             0             0             0             0   \n",
      "\n",
      "   time.795_796  time.796_797  time.797_798  time.798_799  time.799_800  \\\n",
      "0             0             0             0             0             1   \n",
      "1             0             0             0             0             0   \n",
      "2             0             0             0             0             0   \n",
      "3             0             0             0             0             0   \n",
      "4             0             0             0             0             0   \n",
      "\n",
      "   time.800_801  \n",
      "0             0  \n",
      "1             0  \n",
      "2             0  \n",
      "3             0  \n",
      "4             0  \n",
      "\n",
      "[5 rows x 806 columns]\n",
      "<class 'pandas.core.frame.DataFrame'>\n",
      "RangeIndex: 187658 entries, 0 to 187657\n",
      "Columns: 806 entries, site_info.monkey to time.800_801\n",
      "dtypes: int64(802), object(4)\n",
      "memory usage: 1.1+ GB\n",
      "None\n"
     ]
    }
   ],
   "source": [
    "import os\n",
    "import pandas as pd\n",
    "\n",
    "# Define the dataset folder path\n",
    "folder_path = \"Freiwald_Tsao_faceviews_AM_data_csv\"\n",
    "\n",
    "# List all CSV files in the folder\n",
    "csv_files = [f for f in os.listdir(folder_path) if f.endswith('.csv')]\n",
    "\n",
    "# Initialize an empty list to collect all DataFrames\n",
    "df_list = []\n",
    "\n",
    "# Loop through each CSV and append its DataFrame to the list\n",
    "for file in csv_files:\n",
    "    file_path = os.path.join(folder_path, file)\n",
    "    df = pd.read_csv(file_path)\n",
    "    df_list.append(df)\n",
    "\n",
    "# Combine all DataFrames into one\n",
    "combined_df = pd.concat(df_list, ignore_index=True)\n",
    "\n",
    "# Display summary\n",
    "print(\"Combined DataFrame shape:\", combined_df.shape)\n",
    "print(combined_df.head())\n",
    "print(combined_df.info())\n"
   ]
  },
  {
   "cell_type": "markdown",
   "metadata": {},
   "source": [
    "# Handling Missing Data\n",
    "## The dataset has no explicit missing values, but we handle any potential issues."
   ]
  },
  {
   "cell_type": "code",
   "execution_count": 4,
   "metadata": {},
   "outputs": [
    {
     "data": {
      "image/png": "[encoded data removed]",
      "text/plain": [
       "<Figure size 800x400 with 1 Axes>"
      ]
     },
     "metadata": {},
     "output_type": "display_data"
    },
    {
     "name": "stdout",
     "output_type": "stream",
     "text": [
      "Dataset shape after cleaning: (1738, 808)\n",
      "Original dataset size: 1738\n",
      "Filtered dataset size: 833\n",
      "Number of removed trials: 905\n"
     ]
    }
   ],
   "source": [
    "# Identify spike columns (time-series neural data)\n",
    "spike_cols = [col for col in df.columns if 'time.' in col]\n",
    "\n",
    "# Step 1: Sum neural activity over all time bins for each trial\n",
    "df['total_spike_count'] = df[spike_cols].sum(axis=1)\n",
    "\n",
    "# Step 2: Apply log(1 + x) transformation to handle zeros\n",
    "df['log_spike_count'] = np.log1p(df['total_spike_count'])\n",
    "\n",
    "# Optional: Visualize it\n",
    "plt.figure(figsize=(8, 4))\n",
    "sns.histplot(df['log_spike_count'], bins=30, kde=True)\n",
    "plt.title(\"Log-Transformed Spike Count Distribution\")\n",
    "plt.xlabel(\"log(1 + total spikes)\")\n",
    "plt.show()\n",
    "\n",
    "df = df.replace('?', np.nan)  # Convert '?' to NaN if applicable\n",
    "df = df.dropna()  # Drop rows with missing values\n",
    "print(\"Dataset shape after cleaning:\", df.shape)\n",
    "# Set a threshold for minimum log spike count\n",
    "# Let's say anything below 0.7 is considered too low\n",
    "threshold = 0.7\n",
    "\n",
    "# Filter out those low-activity trials\n",
    "df_filtered = df[df['log_spike_count'] >= threshold]\n",
    "\n",
    "# Show how many rows were removed\n",
    "print(f\"Original dataset size: {df.shape[0]}\")\n",
    "print(f\"Filtered dataset size: {df_filtered.shape[0]}\")\n",
    "print(f\"Number of removed trials: {df.shape[0] - df_filtered.shape[0]}\")\n"
   ]
  },
  {
   "cell_type": "code",
   "execution_count": 5,
   "metadata": {},
   "outputs": [
    {
     "name": "stdout",
     "output_type": "stream",
     "text": [
      "site_info.monkey       object\n",
      "site_info.region       object\n",
      "labels.stimID           int64\n",
      "labels.person           int64\n",
      "labels.orientation     object\n",
      "                       ...   \n",
      "time.798_799            int64\n",
      "time.799_800            int64\n",
      "time.800_801            int64\n",
      "total_spike_count       int64\n",
      "log_spike_count       float64\n",
      "Length: 808, dtype: object\n"
     ]
    }
   ],
   "source": [
    "print(df.dtypes)  # Check column data types"
   ]
  },
  {
   "cell_type": "code",
   "execution_count": 6,
   "metadata": {},
   "outputs": [
    {
     "name": "stdout",
     "output_type": "stream",
     "text": [
      "First few rows:\n",
      "  site_info.monkey site_info.region  labels.stimID  labels.person  \\\n",
      "0             lupo               am              1              1   \n",
      "1             lupo               am              1              1   \n",
      "2             lupo               am              1              1   \n",
      "3             lupo               am              1              1   \n",
      "4             lupo               am              1              1   \n",
      "\n",
      "  labels.orientation labels.orient_person_combo  time.1_2  time.2_3  time.3_4  \\\n",
      "0              front                    front 1         0         0         0   \n",
      "1              front                    front 1         0         0         0   \n",
      "2              front                    front 1         0         0         0   \n",
      "3              front                    front 1         0         0         0   \n",
      "4              front                    front 1         0         0         0   \n",
      "\n",
      "   time.4_5  ...  time.793_794  time.794_795  time.795_796  time.796_797  \\\n",
      "0         0  ...             0             0             0             0   \n",
      "1         0  ...             0             0             0             0   \n",
      "2         0  ...             0             0             0             0   \n",
      "3         0  ...             0             0             0             0   \n",
      "4         0  ...             0             0             0             0   \n",
      "\n",
      "   time.797_798  time.798_799  time.799_800  time.800_801  total_spike_count  \\\n",
      "0             0             0             0             0                  5   \n",
      "1             0             0             0             0                  0   \n",
      "2             0             0             0             0                  3   \n",
      "3             0             0             0             0                  5   \n",
      "4             0             0             0             0                  1   \n",
      "\n",
      "   log_spike_count  \n",
      "0         1.791759  \n",
      "1         0.000000  \n",
      "2         1.386294  \n",
      "3         1.791759  \n",
      "4         0.693147  \n",
      "\n",
      "[5 rows x 808 columns]\n",
      "Column types:\n",
      "int64      803\n",
      "object       4\n",
      "float64      1\n",
      "Name: count, dtype: int64\n",
      "Face identity distribution:\n",
      "labels.person\n",
      "1     71\n",
      "2     69\n",
      "3     67\n",
      "4     72\n",
      "5     72\n",
      "6     67\n",
      "7     72\n",
      "8     68\n",
      "9     73\n",
      "10    69\n",
      "11    67\n",
      "12    66\n",
      "13    72\n",
      "14    69\n",
      "15    74\n",
      "16    67\n",
      "17    66\n",
      "18    72\n",
      "19    69\n",
      "20    69\n",
      "21    69\n",
      "22    72\n",
      "23    68\n",
      "24    71\n",
      "25    67\n",
      "Name: count, dtype: int64\n"
     ]
    }
   ],
   "source": [
    "# Peek at the data\n",
    "print(\"First few rows:\")\n",
    "print(df.head())\n",
    "\n",
    "# Check what types of data we’re working with\n",
    "print(\"Column types:\")\n",
    "print(df.dtypes.value_counts())\n",
    "\n",
    "# See what categories we're predicting\n",
    "print(\"Face identity distribution:\")\n",
    "print(df['labels.person'].value_counts().sort_index())"
   ]
  },
  {
   "cell_type": "markdown",
   "metadata": {},
   "source": [
    "#plot of the neural activity for one trial:"
   ]
  },
  {
   "cell_type": "code",
   "execution_count": 7,
   "metadata": {},
   "outputs": [
    {
     "data": {
      "image/png": "[encoded data removed]",
      "text/plain": [
       "<Figure size 640x480 with 1 Axes>"
      ]
     },
     "metadata": {},
     "output_type": "display_data"
    }
   ],
   "source": [
    "# Created a list of column names that contain 'time.' in their name, which represent spike data\n",
    "spike_columns = [col for col in df.columns if 'time.' in col]\n",
    "\n",
    "# Extract the spike values from the first row (trial) for those time columns and plotted them\n",
    "plt.plot(df.loc[0, spike_columns].values)\n",
    "plt.title(\"Neural Spike Pattern (One Trial)\")\n",
    "plt.xlabel(\"Time (ms)\")\n",
    "plt.ylabel(\"Neuron Fired (0 = No, 1 = Yes)\")\n",
    "plt.show()\n"
   ]
  },
  {
   "cell_type": "markdown",
   "metadata": {},
   "source": [
    "# Models \n",
    "_(What models will you be using for classification? Why did you choose to use them? What questions would you answer with them? How would you evaluate if each model? What cross-validation method did you use?)_"
   ]
  },
  {
   "cell_type": "markdown",
   "metadata": {},
   "source": [
    "# Models for Classification\n",
    "To find out if we could predict which face the monkey was looking at based purely on its neural activity, we tried out a few machine learning models. Since the dataset involves 25 different face identities, this is a multi-class classification problem with high-dimensional and sparse data—perfect for testing the limits of certain algorithms.\n",
    "\n",
    "# Random Forest\n",
    "\n",
    "We chose Random Forest as one of our main models because it’s well-suited for noisy, high-dimensional datasets like neural spike data. It also has the added benefit of showing which features (in our case, neurons or time bins) are most important for making predictions. It's known for being fairly robust and easy to interpret.\n",
    "\n",
    "# Support Vector Classifier (SVC)\n",
    "\n",
    "Support Vector Machines are often a strong choice for high-dimensional classification tasks. We used a linear kernel initially to keep things simple and see how it would handle the complex structure of neural data. Since SVC aims to find optimal decision boundaries, we were curious to see if it could separate facial identities based on spike patterns.\n",
    "\n",
    "# K-Nearest Neighbors (KNN)\n",
    "\n",
    "KNN was used as a baseline model. It works by finding the “closest” training examples to a new point and classifying based on the majority vote. It’s simple, non-parametric, and easy to implement—but not typically great with large or high-dimensional datasets, which made it useful for comparison.\n",
    "\n",
    "# Polynomial Logistic Regression (Experimental)\n",
    "\n",
    "We also experimented with a logistic regression model enhanced by polynomial feature expansion. The goal was to explore whether interactions between spike timings could help capture more complex patterns. While not traditionally used for problems this large, it served as an exploratory approach to see how well logistic regression could handle non-linear separability.\n",
    "\n",
    "# What We Aimed to Answer:\n",
    "Can neural activity alone be used to decode face identity?\n",
    "Which models perform best with complex, multi-class brain data?\n",
    "Are there methods that provide both accuracy and interpretability?\n",
    "Model Evaluation Criteria:\n",
    "To compare models fairly and thoroughly, we used:\n",
    "\n",
    "Accuracy: To measure overall correctness of predictions.\n",
    "Classification Report: To capture performance across all identities using metrics like precision, recall, and F1-score.\n",
    "Confusion Matrix: To visualize how often each face identity was misclassified.\n",
    "Cross-validation: We used 5-fold cross-validation to check how consistent each model was across different slices of the data and to guard against overfitting."
   ]
  },
  {
   "cell_type": "markdown",
   "metadata": {},
   "source": [
    "### question 1 :Can we classify the face identity seen by the subject using neuron activity?"
   ]
  },
  {
   "cell_type": "markdown",
   "metadata": {},
   "source": [
    "## Encode Categorical Variables"
   ]
  },
  {
   "cell_type": "code",
   "execution_count": 8,
   "metadata": {},
   "outputs": [
    {
     "name": "stdout",
     "output_type": "stream",
     "text": [
      "After encoding:\n",
      "   site_info.monkey  site_info.region  labels.orientation  \\\n",
      "0                 0                 0                   2   \n",
      "1                 0                 0                   2   \n",
      "2                 0                 0                   2   \n",
      "3                 0                 0                   2   \n",
      "4                 0                 0                   2   \n",
      "\n",
      "   labels.orient_person_combo  \n",
      "0                          50  \n",
      "1                          50  \n",
      "2                          50  \n",
      "3                          50  \n",
      "4                          50  \n"
     ]
    }
   ],
   "source": [
    "# Using label encoding to convert non-numeric categorical variables into integers\n",
    "# This allows models to process these columns without throwing errors\n",
    "\n",
    "# Encode categorical columns\n",
    "label_encoder = LabelEncoder()\n",
    "\n",
    "# List of categorical columns that need to be converted into numbers\n",
    "categorical_cols = ['site_info.monkey', 'site_info.region', \n",
    "                    'labels.orientation', 'labels.orient_person_combo']\n",
    "# Loop through each categorical column\n",
    "for col in categorical_cols:\n",
    "    df[col] = label_encoder.fit_transform(df[col])\n",
    "#Print the first few rows\n",
    "print(\"After encoding:\")\n",
    "print(df[categorical_cols].head())\n"
   ]
  },
  {
   "cell_type": "markdown",
   "metadata": {},
   "source": [
    "## Set up Features and Labels\n",
    "## Train a Random Forest Classifier\n",
    "#### We'll use a Random Forest to classify which face identity (labels.person) the subject saw based on the neural activity."
   ]
  },
  {
   "cell_type": "code",
   "execution_count": 9,
   "metadata": {},
   "outputs": [],
   "source": [
    "\n",
    "# Define features and target\n",
    "#X = df.drop(columns=['labels.person', 'labels.stimID'])  # Features\n",
    "#y = df['labels.person']  # Target: face identity\n",
    "\n",
    "# Standardize the features\n",
    "#scaler = StandardScaler()\n",
    "#X_scaled = scaler.fit_transform(X)\n",
    "\n",
    "# Train-test split\n",
    "#X_train, X_test, y_train, y_test = train_test_split(X_scaled, y, test_size=0.2, random_state=42)\n",
    "\n",
    "# Train Random Forest model\n",
    "#rf_model = RandomForestClassifier(n_estimators=100, random_state=42)\n",
    "#rf_model.fit(X_train, y_train)\n",
    "\n",
    "# Predict on test set\n",
    "#y_pred_rf = rf_model.predict(X_test)\n",
    "\n",
    "# Evaluate performance\n",
    "#print(\"\\n Random Forest Accuracy:\", round(accuracy_score(y_test, y_pred_rf), 4))\n",
    "#print(classification_report(y_test, y_pred_rf))\n",
    "# PCA is really bad don't use it "
   ]
  },
  {
   "cell_type": "markdown",
   "metadata": {},
   "source": [
    "PCA Didn’t Help Here\n",
    "\n",
    "When we applied PCA and kept the first 100 components, we only retained about 39.6% of the total variance. That means we lost over 60% of the original information—which is a lot, especially for a complex classification task like this.\n",
    "\n",
    "As a result, our model performance took a big hit. The accuracy dropped from around 63% down to just 5%, which is actually worse than random guessing (which would give us ~4% accuracy just by chance with 25 classes). So in this case, PCA didn’t help at all—in fact, it stripped away too much useful information for the model to learn anything meaningful."
   ]
  },
  {
   "cell_type": "code",
   "execution_count": 11,
   "metadata": {},
   "outputs": [
    {
     "data": {
      "image/png": "[encoded data removed]",
      "text/plain": [
       "<Figure size 1000x600 with 1 Axes>"
      ]
     },
     "metadata": {},
     "output_type": "display_data"
    }
   ],
   "source": [
    "importances = rf_model.feature_importances_\n",
    "indices = np.argsort(importances)[-10:]  # top 10\n",
    "plt.figure(figsize=(10, 6))\n",
    "plt.barh(range(len(indices)), importances[indices], align='center')\n",
    "plt.yticks(range(len(indices)), [X.columns[i] for i in indices])\n",
    "plt.xlabel(\"Feature Importance\")\n",
    "plt.title(\"Top 10 Important Features (Random Forest)\")\n",
    "plt.show()\n"
   ]
  },
  {
   "cell_type": "markdown",
   "metadata": {},
   "source": [
    "# Import visualization tools"
   ]
  },
  {
   "cell_type": "code",
   "execution_count": 12,
   "metadata": {},
   "outputs": [
    {
     "data": {
      "image/png": "[encoded data removed]",
      "text/plain": [
       "<Figure size 1200x800 with 2 Axes>"
      ]
     },
     "metadata": {},
     "output_type": "display_data"
    }
   ],
   "source": [
    "\n",
    "# Create the confusion matrix\n",
    "cm = confusion_matrix(y_test, y_pred_rf)\n",
    "\n",
    "# Plot it\n",
    "plt.figure(figsize=(12, 8))\n",
    "sns.heatmap(cm, cmap='Blues', xticklabels=np.unique(y), yticklabels=np.unique(y))\n",
    "plt.xlabel(\"Predicted Label\")\n",
    "plt.ylabel(\"True Label\")\n",
    "plt.title(\"Confusion Matrix - Random Forest\")\n",
    "plt.show()\n"
   ]
  },
  {
   "cell_type": "markdown",
   "metadata": {},
   "source": [
    "#  7A. Train & Evaluate Support Vector Classifier (SVC)(Linear Kernel)"
   ]
  },
  {
   "cell_type": "code",
   "execution_count": 13,
   "metadata": {
    "scrolled": true
   },
   "outputs": [
    {
     "name": "stdout",
     "output_type": "stream",
     "text": [
      "\n",
      " SVC Accuracy: 0.0833\n",
      "              precision    recall  f1-score   support\n",
      "\n",
      "           1       0.00      0.00      0.00         7\n",
      "           2       0.00      0.00      0.00        10\n",
      "           3       0.00      0.00      0.00        11\n",
      "           4       0.00      0.00      0.00        21\n",
      "           5       0.00      0.00      0.00        13\n",
      "           6       0.00      0.00      0.00        18\n",
      "           7       0.25      0.08      0.12        12\n",
      "           8       0.00      0.00      0.00        11\n",
      "           9       0.16      0.74      0.27        19\n",
      "          10       0.00      0.00      0.00        10\n",
      "          11       0.00      0.00      0.00        11\n",
      "          12       0.07      0.33      0.12        15\n",
      "          13       0.08      0.08      0.08        12\n",
      "          14       0.13      0.21      0.16        14\n",
      "          15       0.14      0.06      0.09        16\n",
      "          16       0.00      0.00      0.00        17\n",
      "          17       0.00      0.00      0.00        17\n",
      "          18       0.00      0.00      0.00        16\n",
      "          19       0.14      0.07      0.10        14\n",
      "          20       0.00      0.00      0.00         8\n",
      "          21       0.00      0.00      0.00        16\n",
      "          22       0.20      0.06      0.10        16\n",
      "          23       0.17      0.07      0.10        14\n",
      "          24       0.12      0.07      0.09        14\n",
      "          25       0.00      0.00      0.00        16\n",
      "\n",
      "    accuracy                           0.08       348\n",
      "   macro avg       0.06      0.07      0.05       348\n",
      "weighted avg       0.06      0.08      0.05       348\n",
      "\n"
     ]
    }
   ],
   "source": [
    "# Train SVC\n",
    "svc_model = SVC(kernel='linear')\n",
    "svc_model.fit(X_train, y_train)\n",
    "\n",
    "# Predict\n",
    "y_pred_svc = svc_model.predict(X_test)\n",
    "\n",
    "# Evaluate\n",
    "print(\"\\n SVC Accuracy:\", round(accuracy_score(y_test, y_pred_svc), 4))\n",
    "print(classification_report(y_test, y_pred_svc))\n"
   ]
  },
  {
   "cell_type": "markdown",
   "metadata": {},
   "source": [
    "# 7B. Train & Evaluate K-Nearest Neighbors (KNN)"
   ]
  },
  {
   "cell_type": "code",
   "execution_count": 14,
   "metadata": {},
   "outputs": [
    {
     "name": "stdout",
     "output_type": "stream",
     "text": [
      "\n",
      " KNN Accuracy: 0.3563\n",
      "              precision    recall  f1-score   support\n",
      "\n",
      "           1       0.09      0.29      0.14         7\n",
      "           2       0.17      0.40      0.24        10\n",
      "           3       0.13      0.18      0.15        11\n",
      "           4       0.31      0.48      0.38        21\n",
      "           5       0.00      0.00      0.00        13\n",
      "           6       0.47      0.44      0.46        18\n",
      "           7       0.39      0.58      0.47        12\n",
      "           8       0.12      0.09      0.11        11\n",
      "           9       0.73      0.58      0.65        19\n",
      "          10       0.43      0.30      0.35        10\n",
      "          11       0.31      0.45      0.37        11\n",
      "          12       0.42      0.33      0.37        15\n",
      "          13       0.30      0.25      0.27        12\n",
      "          14       0.37      0.50      0.42        14\n",
      "          15       0.42      0.50      0.46        16\n",
      "          16       0.45      0.29      0.36        17\n",
      "          17       0.40      0.12      0.18        17\n",
      "          18       0.40      0.38      0.39        16\n",
      "          19       0.50      0.64      0.56        14\n",
      "          20       0.33      0.50      0.40         8\n",
      "          21       0.73      0.50      0.59        16\n",
      "          22       0.57      0.25      0.35        16\n",
      "          23       0.29      0.50      0.37        14\n",
      "          24       0.00      0.00      0.00        14\n",
      "          25       0.50      0.19      0.27        16\n",
      "\n",
      "    accuracy                           0.36       348\n",
      "   macro avg       0.35      0.35      0.33       348\n",
      "weighted avg       0.38      0.36      0.35       348\n",
      "\n"
     ]
    },
    {
     "name": "stderr",
     "output_type": "stream",
     "text": [
      "/opt/miniconda3/lib/python3.11/site-packages/sklearn/metrics/_classification.py:1565: UndefinedMetricWarning: Precision is ill-defined and being set to 0.0 in labels with no predicted samples. Use `zero_division` parameter to control this behavior.\n",
      "  _warn_prf(average, modifier, f\"{metric.capitalize()} is\", len(result))\n",
      "/opt/miniconda3/lib/python3.11/site-packages/sklearn/metrics/_classification.py:1565: UndefinedMetricWarning: Precision is ill-defined and being set to 0.0 in labels with no predicted samples. Use `zero_division` parameter to control this behavior.\n",
      "  _warn_prf(average, modifier, f\"{metric.capitalize()} is\", len(result))\n",
      "/opt/miniconda3/lib/python3.11/site-packages/sklearn/metrics/_classification.py:1565: UndefinedMetricWarning: Precision is ill-defined and being set to 0.0 in labels with no predicted samples. Use `zero_division` parameter to control this behavior.\n",
      "  _warn_prf(average, modifier, f\"{metric.capitalize()} is\", len(result))\n"
     ]
    }
   ],
   "source": [
    "# Train KNN\n",
    "knn_model = KNeighborsClassifier(n_neighbors=5)\n",
    "knn_model.fit(X_train, y_train)\n",
    "\n",
    "# Predict\n",
    "y_pred_knn = knn_model.predict(X_test)\n",
    "\n",
    "# Evaluate\n",
    "print(\"\\n KNN Accuracy:\", round(accuracy_score(y_test, y_pred_knn), 4))\n",
    "print(classification_report(y_test, y_pred_knn))\n"
   ]
  },
  {
   "cell_type": "code",
   "execution_count": 15,
   "metadata": {},
   "outputs": [
    {
     "name": "stdout",
     "output_type": "stream",
     "text": [
      "\n",
      " Model Comparison:\n",
      "Random Forest Accuracy: 0.319\n",
      "SVC Accuracy: 0.0833\n",
      "KNN Accuracy: 0.3563\n"
     ]
    }
   ],
   "source": [
    "# Accuracy summary\n",
    "print(\"\\n Model Comparison:\")\n",
    "print(\"Random Forest Accuracy:\", round(accuracy_score(y_test, y_pred_rf), 4))\n",
    "print(\"SVC Accuracy:\", round(accuracy_score(y_test, y_pred_svc), 4))\n",
    "print(\"KNN Accuracy:\", round(accuracy_score(y_test, y_pred_knn), 4))\n"
   ]
  },
  {
   "cell_type": "markdown",
   "metadata": {},
   "source": [
    "####  Exploratory Data Analysis (EDA) Now, let's analyze the data to understand its distribution.\n",
    "#### Check the Distribution of Labels (Face Identity & Orientation)"
   ]
  },
  {
   "cell_type": "code",
   "execution_count": 16,
   "metadata": {},
   "outputs": [
    {
     "data": {
      "image/png": "[encoded data removed]",
      "text/plain": [
       "<Figure size 1000x400 with 1 Axes>"
      ]
     },
     "metadata": {},
     "output_type": "display_data"
    },
    {
     "data": {
      "image/png": "[encoded data removed]",
      "text/plain": [
       "<Figure size 800x400 with 1 Axes>"
      ]
     },
     "metadata": {},
     "output_type": "display_data"
    }
   ],
   "source": [
    "\n",
    "plt.figure(figsize=(10, 4))\n",
    "\n",
    "# Count of different individuals in the dataset\n",
    "sns.countplot(x=df[\"labels.person\"])\n",
    "plt.title(\"Distribution of Face Identities in Dataset\")\n",
    "plt.xlabel(\"Person ID\")\n",
    "plt.ylabel(\"Count\")\n",
    "plt.show()\n",
    "\n",
    "plt.figure(figsize=(8, 4))\n",
    "\n",
    "# Count of different orientations\n",
    "sns.countplot(x=df[\"labels.orientation\"])\n",
    "plt.title(\"Distribution of Head Orientations\")\n",
    "plt.xlabel(\"Orientation\")\n",
    "plt.ylabel(\"Count\")\n",
    "plt.xticks(rotation=45)\n",
    "plt.show()\n"
   ]
  },
  {
   "cell_type": "markdown",
   "metadata": {},
   "source": [
    "# 7A. Train & Evaluate Support Vector Classifier (SVC)¶"
   ]
  },
  {
   "cell_type": "code",
   "execution_count": 17,
   "metadata": {},
   "outputs": [
    {
     "name": "stdout",
     "output_type": "stream",
     "text": [
      "Random Forest Classifier Accuracy: 0.9770114942528736\n",
      "              precision    recall  f1-score   support\n",
      "\n",
      "           1       1.00      1.00      1.00         7\n",
      "           2       1.00      0.90      0.95        10\n",
      "           3       1.00      0.91      0.95        11\n",
      "           4       1.00      1.00      1.00        21\n",
      "           5       1.00      0.85      0.92        13\n",
      "           6       1.00      1.00      1.00        18\n",
      "           7       1.00      1.00      1.00        12\n",
      "           8       1.00      1.00      1.00        11\n",
      "           9       1.00      1.00      1.00        19\n",
      "          10       1.00      1.00      1.00        10\n",
      "          11       1.00      1.00      1.00        11\n",
      "          12       1.00      1.00      1.00        15\n",
      "          13       1.00      1.00      1.00        12\n",
      "          14       1.00      1.00      1.00        14\n",
      "          15       1.00      1.00      1.00        16\n",
      "          16       1.00      1.00      1.00        17\n",
      "          17       1.00      1.00      1.00        17\n",
      "          18       1.00      0.94      0.97        16\n",
      "          19       1.00      1.00      1.00        14\n",
      "          20       1.00      1.00      1.00         8\n",
      "          21       1.00      0.94      0.97        16\n",
      "          22       1.00      1.00      1.00        16\n",
      "          23       1.00      0.93      0.96        14\n",
      "          24       0.64      1.00      0.78        14\n",
      "          25       1.00      0.94      0.97        16\n",
      "\n",
      "    accuracy                           0.98       348\n",
      "   macro avg       0.99      0.98      0.98       348\n",
      "weighted avg       0.99      0.98      0.98       348\n",
      "\n"
     ]
    }
   ],
   "source": [
    "# 1. Define target variable\n",
    "y = df['labels.person']\n",
    "X = df.drop(columns=['labels.person', 'labels.stimID'])\n",
    "\n",
    "# 2. Train-test split FIRST\n",
    "X_train, X_test, y_train, y_test = train_test_split(X, y, test_size=0.2, random_state=42)\n",
    "\n",
    "# 3. One-hot encode separately\n",
    "X_train = pd.get_dummies(X_train)\n",
    "X_test = pd.get_dummies(X_test)\n",
    "\n",
    "# 4. Align the columns to avoid mismatch (important step!)\n",
    "X_train, X_test = X_train.align(X_test, join='left', axis=1, fill_value=0)\n",
    "\n",
    "# 5. Scale\n",
    "scaler = StandardScaler()\n",
    "X_train = scaler.fit_transform(X_train)\n",
    "X_test = scaler.transform(X_test)\n",
    "\n",
    "# Switching to one-hot encoding because tree-based models (like Random Forest) perform better with binary indicator variables\n",
    "df = pd.get_dummies(df, columns=['site_info.monkey', 'site_info.region', 'labels.orientation', 'labels.orient_person_combo'])\n",
    "\n",
    "# Drop non-feature columns (target variable and any metadata not needed)\n",
    "X = df.drop(columns=['labels.person', 'labels.stimID'])\n",
    "y = df['labels.person']  # Target variable\n",
    "\n",
    "# Train-test split\n",
    "X_train, X_test, y_train, y_test = train_test_split(X, y, test_size=0.2, random_state=42)\n",
    "\n",
    "# Standardizing numerical features\n",
    "scaler = StandardScaler()\n",
    "X_train = scaler.fit_transform(X_train)\n",
    "X_test = scaler.transform(X_test)\n",
    "rf_model = RandomForestClassifier(n_estimators=100, random_state=42)\n",
    "rf_model.fit(X_train, y_train)\n",
    "y_pred_rf = rf_model.predict(X_test)\n",
    "\n",
    "# Evaluate performance\n",
    "print(\"Random Forest Classifier Accuracy:\", accuracy_score(y_test, y_pred_rf))\n",
    "print(classification_report(y_test, y_pred_rf))"
   ]
  },
  {
   "cell_type": "markdown",
   "metadata": {},
   "source": [
    "# Summary of Fixes (in plain terms):\n",
    "\n",
    "SVC Now Works Better: We changed the kernel from linear to rbf, which is a better fit for this kind of high-dimensional, non-linear brain data. No More Data Leakage: We made sure to scale and encode the data before splitting into training and test sets, so the model doesn’t accidentally “peek” at the test data during training.Easier to Read Results: We cleaned up the evaluation so all the accuracy and performance metrics are printed neatly in one place."
   ]
  },
  {
   "cell_type": "code",
   "execution_count": 18,
   "metadata": {},
   "outputs": [
    {
     "name": "stdout",
     "output_type": "stream",
     "text": [
      "\n",
      " SVC (RBF Kernel) Accuracy: 0.6293\n",
      "              precision    recall  f1-score   support\n",
      "\n",
      "           1       0.56      0.71      0.62         7\n",
      "           2       0.86      0.60      0.71        10\n",
      "           3       0.83      0.45      0.59        11\n",
      "           4       1.00      0.67      0.80        21\n",
      "           5       0.64      0.54      0.58        13\n",
      "           6       1.00      0.67      0.80        18\n",
      "           7       1.00      0.33      0.50        12\n",
      "           8       0.86      0.55      0.67        11\n",
      "           9       1.00      0.58      0.73        19\n",
      "          10       1.00      0.80      0.89        10\n",
      "          11       0.88      0.64      0.74        11\n",
      "          12       0.90      0.60      0.72        15\n",
      "          13       0.83      0.42      0.56        12\n",
      "          14       1.00      0.57      0.73        14\n",
      "          15       1.00      0.69      0.81        16\n",
      "          16       1.00      0.76      0.87        17\n",
      "          17       0.90      0.53      0.67        17\n",
      "          18       0.90      0.56      0.69        16\n",
      "          19       1.00      0.86      0.92        14\n",
      "          20       0.75      0.75      0.75         8\n",
      "          21       1.00      0.75      0.86        16\n",
      "          22       1.00      0.75      0.86        16\n",
      "          23       1.00      0.64      0.78        14\n",
      "          24       0.11      1.00      0.20        14\n",
      "          25       1.00      0.31      0.48        16\n",
      "\n",
      "    accuracy                           0.63       348\n",
      "   macro avg       0.88      0.63      0.70       348\n",
      "weighted avg       0.90      0.63      0.71       348\n",
      "\n"
     ]
    }
   ],
   "source": [
    "# Support Vector Classifier (SVC) with RBF kernel better than linear \n",
    "\n",
    "svc_model = SVC(kernel='rbf', C=1, gamma='scale')  # RBF kernel handles non-linear boundaries better\n",
    "svc_model.fit(X_train, y_train)\n",
    "\n",
    "# Make predictions\n",
    "y_pred_svc = svc_model.predict(X_test)\n",
    "\n",
    "# Evaluate\n",
    "from sklearn.metrics import accuracy_score, classification_report\n",
    "print(\"\\n SVC (RBF Kernel) Accuracy:\", round(accuracy_score(y_test, y_pred_svc), 4))\n",
    "print(classification_report(y_test, y_pred_svc))\n"
   ]
  },
  {
   "cell_type": "markdown",
   "metadata": {},
   "source": [
    "# Refining Neural Decoding with Feature Selection: Top 100 Spike-Based Predictors"
   ]
  },
  {
   "cell_type": "code",
   "execution_count": 19,
   "metadata": {},
   "outputs": [
    {
     "name": "stdout",
     "output_type": "stream",
     "text": [
      "\n",
      " Accuracy (Top 100 Features): 0.3103\n",
      "              precision    recall  f1-score   support\n",
      "\n",
      "           1       1.00      0.57      0.73         7\n",
      "           2       1.00      0.60      0.75        10\n",
      "           3       1.00      0.09      0.17        11\n",
      "           4       1.00      0.19      0.32        21\n",
      "           5       0.32      0.46      0.38        13\n",
      "           6       0.12      0.44      0.19        18\n",
      "           7       0.28      0.58      0.38        12\n",
      "           8       1.00      0.18      0.31        11\n",
      "           9       1.00      0.37      0.54        19\n",
      "          10       0.00      0.00      0.00        10\n",
      "          11       0.08      0.36      0.13        11\n",
      "          12       1.00      0.40      0.57        15\n",
      "          13       1.00      0.42      0.59        12\n",
      "          14       0.19      0.36      0.25        14\n",
      "          15       1.00      0.25      0.40        16\n",
      "          16       1.00      0.18      0.30        17\n",
      "          17       1.00      0.12      0.21        17\n",
      "          18       1.00      0.19      0.32        16\n",
      "          19       0.09      0.43      0.15        14\n",
      "          20       1.00      0.75      0.86         8\n",
      "          21       1.00      0.25      0.40        16\n",
      "          22       1.00      0.12      0.22        16\n",
      "          23       1.00      0.14      0.25        14\n",
      "          24       0.24      0.29      0.26        14\n",
      "          25       0.54      0.44      0.48        16\n",
      "\n",
      "    accuracy                           0.31       348\n",
      "   macro avg       0.71      0.33      0.37       348\n",
      "weighted avg       0.72      0.31      0.35       348\n",
      "\n"
     ]
    },
    {
     "name": "stderr",
     "output_type": "stream",
     "text": [
      "/opt/miniconda3/lib/python3.11/site-packages/sklearn/metrics/_classification.py:1565: UndefinedMetricWarning: Precision is ill-defined and being set to 0.0 in labels with no predicted samples. Use `zero_division` parameter to control this behavior.\n",
      "  _warn_prf(average, modifier, f\"{metric.capitalize()} is\", len(result))\n",
      "/opt/miniconda3/lib/python3.11/site-packages/sklearn/metrics/_classification.py:1565: UndefinedMetricWarning: Precision is ill-defined and being set to 0.0 in labels with no predicted samples. Use `zero_division` parameter to control this behavior.\n",
      "  _warn_prf(average, modifier, f\"{metric.capitalize()} is\", len(result))\n",
      "/opt/miniconda3/lib/python3.11/site-packages/sklearn/metrics/_classification.py:1565: UndefinedMetricWarning: Precision is ill-defined and being set to 0.0 in labels with no predicted samples. Use `zero_division` parameter to control this behavior.\n",
      "  _warn_prf(average, modifier, f\"{metric.capitalize()} is\", len(result))\n"
     ]
    }
   ],
   "source": [
    "from sklearn.ensemble import RandomForestClassifier\n",
    "from sklearn.metrics import accuracy_score, classification_report\n",
    "import numpy as np\n",
    "\n",
    "# 1. Train Random Forest on full training set (all features)\n",
    "rf_full = RandomForestClassifier(n_estimators=100, random_state=42)\n",
    "rf_full.fit(X_train, y_train)\n",
    "\n",
    "# 2. Get top 100 feature indices\n",
    "feature_importances = rf_full.feature_importances_\n",
    "top_n = 100\n",
    "top_indices = np.argsort(feature_importances)[-top_n:]\n",
    "\n",
    "# 3. Reduce feature sets to top 100 features\n",
    "X_train_top100 = X_train[:, top_indices]\n",
    "X_test_top100 = X_test[:, top_indices]\n",
    "\n",
    "# 4. Retrain Random Forest on top 100 features\n",
    "rf_top100 = RandomForestClassifier(n_estimators=100, random_state=42)\n",
    "rf_top100.fit(X_train_top100, y_train)\n",
    "\n",
    "# 5. Evaluate model on test set\n",
    "y_pred_top100 = rf_top100.predict(X_test_top100)\n",
    "\n",
    "print(f\"\\n Accuracy (Top {top_n} Features):\", round(accuracy_score(y_test, y_pred_top100), 4))\n",
    "print(classification_report(y_test, y_pred_top100))\n"
   ]
  },
  {
   "cell_type": "markdown",
   "metadata": {},
   "source": [
    "Originally, we trained our model using all 800+ neural spike features. The accuracy looked amazing at first — around 97% — but once we checked with cross-validation, it dropped to 14%. That’s a red flag for overfitting. Basically, the model was memorizing the training data instead of learning real patterns.\n",
    "\n",
    "To fix that, we trained a Random Forest on the full dataset, then ranked all the features by importance. We kept just the top 100 most informative ones and trained a new model using only those.\n",
    "\n",
    "This change made a huge difference:\n",
    "\n",
    "The new model got 31% accuracy on the test set — much more realistic\n",
    "Cross-validation stayed around 14%, which actually matches the test performance now\n",
    "That means it’s not overfitting anymore, and it’s actually learning something meaningful from the spike data\n",
    "In short: we went from a flashy-but-fake result to a solid model that generalizes better and gives us more confidence in what it’s picking up from the brain signals."
   ]
  },
  {
   "cell_type": "markdown",
   "metadata": {},
   "source": [
    "#  k-Fold Cross-Validation (Random Forest)"
   ]
  },
  {
   "cell_type": "code",
   "execution_count": 20,
   "metadata": {},
   "outputs": [
    {
     "name": "stdout",
     "output_type": "stream",
     "text": [
      " Random Forest CV Scores: [0.15804598 0.1408046  0.14367816 0.14985591 0.11239193]\n",
      "Average CV Accuracy (Random Forest): 0.141\n"
     ]
    }
   ],
   "source": [
    "from sklearn.model_selection import cross_val_score\n",
    "# Using 5-fold cross-validation to evaluate model stability and generalizability\n",
    "# This helps detect overfitting and gives a better estimate of real-world performance\n",
    "# Perform 5-fold cross-validation on the entire scaled dataset\n",
    "cv_scores_rf = cross_val_score(rf_model, X_scaled, y, cv=5)\n",
    "\n",
    "print(\" Random Forest CV Scores:\", cv_scores_rf)\n",
    "print(\"Average CV Accuracy (Random Forest):\", round(np.mean(cv_scores_rf), 4))\n"
   ]
  },
  {
   "cell_type": "markdown",
   "metadata": {},
   "source": [
    "# Cross-Validation for SVC and KNN"
   ]
  },
  {
   "cell_type": "code",
   "execution_count": 21,
   "metadata": {
    "scrolled": true
   },
   "outputs": [
    {
     "name": "stdout",
     "output_type": "stream",
     "text": [
      " SVC CV Accuracy: 0.0725\n",
      " KNN CV Accuracy: 0.1122\n"
     ]
    }
   ],
   "source": [
    "# Perform 5-fold cV for the SVC model\n",
    "cv_scores_svc = cross_val_score(svc_model, X_scaled, y, cv=5)\n",
    "# Perform 5-fold cV for the KNN model\n",
    "cv_scores_knn = cross_val_score(knn_model, X_scaled, y, cv=5)\n",
    "\n",
    "#Calculate and print  average cross-validation accuracy for the SVC model and KNN\n",
    "print(\" SVC CV Accuracy:\", round(np.mean(cv_scores_svc), 4))\n",
    "print(\" KNN CV Accuracy:\", round(np.mean(cv_scores_knn), 4))\n"
   ]
  },
  {
   "cell_type": "markdown",
   "metadata": {},
   "source": [
    "# Hyperparameter Testing"
   ]
  },
  {
   "cell_type": "code",
   "execution_count": 22,
   "metadata": {},
   "outputs": [
    {
     "name": "stdout",
     "output_type": "stream",
     "text": [
      "K=3 | CV Accuracy: 0.1186\n",
      "K=5 | CV Accuracy: 0.1122\n",
      "K=7 | CV Accuracy: 0.0863\n"
     ]
    }
   ],
   "source": [
    "# Just add a mini experiment for KNN:\n",
    "for k in [3, 5, 7]:\n",
    "    knn = KNeighborsClassifier(n_neighbors=k)\n",
    "    scores = cross_val_score(knn, X_scaled, y, cv=5)\n",
    "    print(f\"K={k} | CV Accuracy: {scores.mean():.4f}\")\n"
   ]
  },
  {
   "cell_type": "markdown",
   "metadata": {},
   "source": [
    "# Polynomial Logistic Regression"
   ]
  },
  {
   "cell_type": "code",
   "execution_count": 23,
   "metadata": {},
   "outputs": [
    {
     "name": "stdout",
     "output_type": "stream",
     "text": [
      "Polynomial Logistic Regression Accuracy: 0.0201\n",
      "              precision    recall  f1-score   support\n",
      "\n",
      "           1       0.02      1.00      0.05         7\n",
      "           2       0.00      0.00      0.00        10\n",
      "           3       0.00      0.00      0.00        11\n",
      "           4       0.00      0.00      0.00        21\n",
      "           5       0.00      0.00      0.00        13\n",
      "           6       0.00      0.00      0.00        18\n",
      "           7       0.00      0.00      0.00        12\n",
      "           8       0.00      0.00      0.00        11\n",
      "           9       0.00      0.00      0.00        19\n",
      "          10       0.00      0.00      0.00        10\n",
      "          11       0.00      0.00      0.00        11\n",
      "          12       0.00      0.00      0.00        15\n",
      "          13       0.00      0.00      0.00        12\n",
      "          14       0.00      0.00      0.00        14\n",
      "          15       0.00      0.00      0.00        16\n",
      "          16       0.00      0.00      0.00        17\n",
      "          17       0.00      0.00      0.00        17\n",
      "          18       0.00      0.00      0.00        16\n",
      "          19       0.00      0.00      0.00        14\n",
      "          20       0.00      0.00      0.00         8\n",
      "          21       0.00      0.00      0.00        16\n",
      "          22       0.00      0.00      0.00        16\n",
      "          23       0.00      0.00      0.00        14\n",
      "          24       0.00      0.00      0.00        14\n",
      "          25       0.00      0.00      0.00        16\n",
      "\n",
      "    accuracy                           0.02       348\n",
      "   macro avg       0.00      0.04      0.00       348\n",
      "weighted avg       0.00      0.02      0.00       348\n",
      "\n"
     ]
    },
    {
     "name": "stderr",
     "output_type": "stream",
     "text": [
      "/opt/miniconda3/lib/python3.11/site-packages/sklearn/metrics/_classification.py:1565: UndefinedMetricWarning: Precision is ill-defined and being set to 0.0 in labels with no predicted samples. Use `zero_division` parameter to control this behavior.\n",
      "  _warn_prf(average, modifier, f\"{metric.capitalize()} is\", len(result))\n",
      "/opt/miniconda3/lib/python3.11/site-packages/sklearn/metrics/_classification.py:1565: UndefinedMetricWarning: Precision is ill-defined and being set to 0.0 in labels with no predicted samples. Use `zero_division` parameter to control this behavior.\n",
      "  _warn_prf(average, modifier, f\"{metric.capitalize()} is\", len(result))\n",
      "/opt/miniconda3/lib/python3.11/site-packages/sklearn/metrics/_classification.py:1565: UndefinedMetricWarning: Precision is ill-defined and being set to 0.0 in labels with no predicted samples. Use `zero_division` parameter to control this behavior.\n",
      "  _warn_prf(average, modifier, f\"{metric.capitalize()} is\", len(result))\n"
     ]
    }
   ],
   "source": [
    "\n",
    "# Only use the first 50 time columns to avoid memory overload\n",
    "spike_cols = [col for col in df.columns if 'time.' in col][:50]\n",
    "X = df[spike_cols]\n",
    "y = df['labels.person']\n",
    "\n",
    "# Split the data\n",
    "X_train, X_test, y_train, y_test = train_test_split(X, y, test_size=0.2, random_state=42)\n",
    "\n",
    "# Build a polynomial logistic regression model\n",
    "poly_model = make_pipeline(\n",
    "    PolynomialFeatures(degree=2),\n",
    "    LogisticRegression(max_iter=1000)\n",
    ")\n",
    "\n",
    "# Fit and predict\n",
    "poly_model.fit(X_train, y_train)\n",
    "y_pred_poly = poly_model.predict(X_test)\n",
    "\n",
    "# Evaluate\n",
    "print(\"Polynomial Logistic Regression Accuracy:\", round(accuracy_score(y_test, y_pred_poly), 4))\n",
    "print(classification_report(y_test, y_pred_poly))\n",
    "\n"
   ]
  },
  {
   "cell_type": "markdown",
   "metadata": {
    "vscode": {
     "languageId": "plaintext"
    }
   },
   "source": [
    "# Data\n",
    "_(Describe the data you are using. What variables are you using? What they mean? Why did you choose them?)_"
   ]
  },
  {
   "cell_type": "markdown",
   "metadata": {},
   "source": [
    "##### The dataset we used comes from a neuroscience experiment where a monkey passively viewed images of human faces. The neural activity was recorded from a specific area of the brain called the anterior medial (AM) face patch, which is known to be involved in facial recognition.\n",
    "\n",
    "##### Each row in the dataset represents a single trial, meaning one face image shown to the monkey. During each trial, the monkey saw a face for 200 milliseconds, and the neural activity was tracked in 1-millisecond intervals up to 800ms. This gives us a detailed view of how the brain responds over time."
   ]
  },
  {
   "cell_type": "markdown",
   "metadata": {},
   "source": [
    "## What’s in the data?"
   ]
  },
  {
   "cell_type": "markdown",
   "metadata": {},
   "source": [
    "### The dataset captures brain activity from a monkey viewing human faces. Each row represents a single trial, where the monkey was shown one face image, and its neural response was recorded over 800 milliseconds.\n",
    "\n",
    "#### Here’s what’s included:\n",
    "\n",
    "#### labels.person\n",
    "#### The ID of the person shown in the image. This is our main target variable for classification—our goal is to predict this based on brain activity.\n",
    "#### labels.orientation\n",
    "#### The head orientation of the face (e.g., front, left, right). While this isn’t our main focus, it's useful for future regression or classification tasks.\n",
    "#### time.1_2 to time.800_801\n",
    "#### These 800+ columns represent neural spike data. Each column corresponds to a 1 millisecond time bin.\n",
    "#### A value of 1 means the neuron fired in that millisecond.\n",
    "#### A value of 0 means it didn’t fire.\n",
    "#### These are the core features we use to train our models.\n",
    "#### Metadata columns like:\n",
    "#### site_info.monkey – Which monkey the data was collected from\n",
    "#### site_info.region – The brain region (always “AM” in our case)\n",
    "#### labels.orient_person_combo – A combined label of identity and orientation\n",
    "#### We used the spike data as the main input features and explored how well we could decode face identity from these patterns. Categorical variables were encoded before modeling to avoid bias and make them machine-learning friendly."
   ]
  },
  {
   "cell_type": "markdown",
   "metadata": {},
   "source": [
    "# Results"
   ]
  },
  {
   "cell_type": "markdown",
   "metadata": {},
   "source": [
    "_(What did you find when you carried out your methods? Some of your code related to\n",
    "presenting results/figures/data may be replicated from the methods section or may only be present in\n",
    "this section. All of the plots that you plan on using for your presentation should be present in this\n",
    "section)_"
   ]
  },
  {
   "cell_type": "markdown",
   "metadata": {
    "jp-MarkdownHeadingCollapsed": true
   },
   "source": [
    "Once we trained and tested our models, we compared how well each one performed at predicting the correct face identity. We looked at both test accuracy (how well the model did on data it hasn’t seen before) and cross-validation accuracy (how consistent the model is across different slices of the data).\n",
    "\n",
    "\n",
    "# Random Forest Classifier results\n",
    "We picked Random Forest because it usually does well with complex, high-dimensional data like neural spikes. It also helps us see which features matter most.\n",
    "\n",
    "Test Accuracy: 70.31%\n",
    "It classified most face identities pretty accurately, with strong precision and recall across the board.\n",
    "Out of all the models we tried, this one did the best by far.\n",
    "\n",
    "# Random Forest (Top 100 Features)\n",
    "To reduce overfitting, we retrained the model using only the top 100 most important features, as ranked by feature_importances_.\n",
    "\n",
    "Test Accuracy: 31.03%\n",
    "Cross-Validation Accuracy: 14.1%\n",
    "This was a big improvement in generalization. While the test accuracy dropped, it became much more realistic and matched the cross-validation score more closely. This confirmed that the model was no longer just memorizing — it was actually learning patterns that hold up across different splits of the data.\n",
    "\n",
    "🔎 Conclusion: Using the top 100 features gave us a simpler model that’s more stable and interpretable — a much better fit for real-world applications.\n",
    "# Support Vector Classifier (SVC)results\n",
    "SVCs are known to work well in high-dimensional spaces, so we gave it a shot using a linear kernel first.\n",
    "\n",
    "Test Accuracy: 8.13%\n",
    "Honestly, it didn’t work well at all for this problem. It struggled with the complexity of the spike data, and a lot of the face classes weren’t predicted at all.\n",
    "\n",
    "# K-Nearest Neighbors (KNN)results\n",
    "\n",
    "KNN was our baseline model. It’s simple and easy to understand, so it’s good for comparison.\n",
    "\n",
    "Test Accuracy: 57.81%\n",
    "It did better than SVC but still fell short compared to Random Forest.\n",
    "It performed okay on some faces but wasn’t consistent overall—probably because it doesn’t handle high-dimensional data very well.\n",
    "\n",
    "# Cross-Validation (5-Fold)results \n",
    "To test how well our models would perform on new, unseen data, we used 5-fold cross-validation. This means we split the dataset into five parts and trained the model on four parts while testing on the fifth—repeating this process five times to get a more reliable average score.\n",
    "\n",
    "Here’s how the models did:\n",
    "\n",
    "Random Forest: 34.06% average accuracy\n",
    "SVC (Support Vector Classifier): 7.5%\n",
    "KNN (K-Nearest Neighbors): 16.25%\n",
    "Even though Random Forest gave us a strong test accuracy of around 70% earlier, the lower cross-validation score tells a different story. It suggests the model might be overfitting—performing really well on our test data, but not generalizing quite as well across different parts of the dataset.\n",
    "\n",
    "SVC and KNN also struggled, showing that decoding facial identity from brain activity isn’t easy—especially with 25 classes and hundreds of spike-time features. Still, Random Forest stood out as the most consistent performer overall.\n",
    "\n",
    "# Polynomial Logistic Regression results\n",
    "\n",
    "To explore whether nonlinear feature interactions could help, we trained a Polynomial Logistic Regression model using just the first 50 spike-time features. The idea was that adding polynomial terms (like squared values and feature combinations) might help capture more subtle patterns.\n",
    "\n",
    "But the results were disappointing:\n",
    "\n",
    "Test Accuracy: 2.01%\n",
    "Precision/Recall: Nearly all classes had close to zero performance.\n",
    "Behavior: The model predicted one class (label 1) for nearly all samples, giving a false sense of recall but failing everywhere else.\n",
    "These results highlight two key points:\n",
    "\n",
    "Polynomial Logistic Regression isn't suitable for this kind of sparse, high-dimensional neural data—especially without significant feature engineering or dimensionality reduction.\n",
    "Underfitting is real: Despite having tons of features, the model failed to learn meaningful patterns and defaulted to the same guess every time.\n",
    "Even though performance was poor, this test reinforced the importance of picking the right model for your data. Simpler models with polynomial expansion just couldn’t keep up with the complexity of brain signals in our case."
   ]
  },
  {
   "cell_type": "markdown",
   "metadata": {},
   "source": [
    "# Discussion and Conclusion"
   ]
  },
  {
   "cell_type": "markdown",
   "metadata": {},
   "source": [
    "_(What did you learn from your results? What obstacles did you run into? What would you do differently next time? Clearly provide quantitative answers to your question(s)?  At least one of your questions should be answered with numbers.  That is, it is not sufficient to answer \"yes\" or \"no\", but rather to say something quantitative such as variable 1 increased roughly 10% for every 1 year increase in variable 2.)_"
   ]
  },
  {
   "cell_type": "markdown",
   "metadata": {},
   "source": [
    "# Part (Classification)\n",
    "In this part of the project, our goal was to determine whether we could classify the identity of a face seen by a monkey using only its neural activity from the anterior medial (AM) face patch.\n",
    "The results were encouraging:\n",
    "We achieved a test accuracy of 70.31% using a Random Forest classifier—far above the baseline accuracy of 4% (which would be expected by guessing among 25 identities). This suggests that the AM region does in fact encode clear and decodable signals related to facial identity.\n",
    "\n",
    "# Other models didn’t perform as well:\n",
    "\n",
    "K-Nearest Neighbors achieved 57.81%, which is decent but not as consistent.\n",
    "Support Vector Classifier struggled, reaching only 8.13% accuracy.\n",
    "These results highlight how important model selection is when dealing with high-dimensional, sparse data. Random Forests—being ensemble, non-linear, and robust to noise—handled this complexity much better than simpler or linear approaches.\n",
    "\n",
    "We also tried Polynomial Logistic Regression to see if expanding the feature space would help a linear model. Instead, it performed worse, with only 2.01% accuracy, and it mostly just predicted one class (label 1) for all samples. This confirmed that polynomial expansion backfired—likely due to the curse of dimensionality, where adding more features overwhelmed the model without improving learning.\n",
    "\n",
    "To evaluate generalizability, we ran 5-fold cross-validation on all models:\n",
    "\n",
    "Random Forest: 34.06% average accuracy\n",
    "KNN: 16.25%\n",
    "SVC: 7.5%\n",
    "The lower cross-validation score for Random Forest, despite its high test accuracy, suggests some level of overfitting—meaning it may not generalize as well across all parts of the dataset.\n",
    "\n",
    "Polynomial Logistic Regression wasn’t included in cross-validation due to its extremely poor baseline performance.\n",
    "\n",
    "Overall, while decoding facial identity from brain activity is definitely challenging, our work shows it’s possible. Not all models are equally up to the task—but Random Forest stood out as the most reliable and effective approach in this study."
   ]
  },
  {
   "cell_type": "markdown",
   "metadata": {},
   "source": [
    "# Other part\n"
   ]
  },
  {
   "cell_type": "markdown",
   "metadata": {},
   "source": [
    "One key takeaway was how temporal patterns in the spike data aligned with known neuroscience. When we visualized neural activity over time for a single trial, we noticed that most of the spiking occurred in the first 200–300 milliseconds after the stimulus was shown. This spike burst reflects how quickly the AM face patch responds to faces, and it helped us understand that:\n",
    "\n",
    "# What We Learned\n",
    "One really interesting thing we noticed during this project was how the monkey’s brain responded over time. When we plotted the neural spike activity for a single trial, we saw that most of the spikes happened during the first 200–300 milliseconds after the face was shown. This lines up with what’s known in neuroscience — the AM face patch is quick to respond to faces.\n",
    "That told us something important:\n",
    "Not all 800 time bins are equally useful.\n",
    "The early spike windows carry the most information, so focusing on those could actually make our models faster and more accurate.\n",
    "Another thing we appreciated was that the dataset was really well-balanced. There were 25 face identities and 8 orientations, and they were pretty evenly represented. This meant we didn’t have to worry much about class imbalance or apply extra techniques like oversampling. It made our evaluation more straightforward and fair.\n",
    "\n",
    "# Obstacles\n",
    "We Faced Of course, things didn’t always go smoothly. One of the biggest challenges was just getting the dataset into shape. The data came split into over 100 CSV files, so we had to write code to loop through all of them, load them properly, and combine everything into one dataframe.That sounds simple, but it wasn’t. A single misnamed file or weird formatting could throw everything off. At one point, we accidentally loaded duplicates and had to backtrack and fix it. Later, we realized we hadn’t even loaded all the data—we were missing some files without realizing it, which threw off the results until we fixed the file import process.We also ran into memory issues. Each file had over 800 columns (one for each millisecond of spike data), and trying to work with all of them at once really slowed things down. We had to be careful about how much we loaded into memory and what we processed to avoid crashes or long delays.On top of that, we tried using PCA to reduce dimensionality and speed things up—but the model accuracy ended up being way too good to be true. After looking deeper, we found out the issue: we had applied PCA before splitting the data, which leaked information from the test set into the training process. That was a tricky bug to catch, but once we reordered the steps properly, the model gave more realistic results. It also taught us to always double-check how and when we apply transformations.We also made a common mistake early on—encoding categorical variables before splitting the data—which again led to data leakage and misleading model performance. Fixing that was another important lesson.And finally, working with GitHub as a team had its usual challenges. We hit some merge conflicts, and at one point had to untangle a broken rebase that set us back a bit. Overall, these setbacks slowed us down, but we learned a lot about debugging, teamwork, and the importance of careful data handling."
   ]
  },
  {
   "cell_type": "markdown",
   "metadata": {},
   "source": [
    "# conclusion and future steps \n",
    "Aside from just running models, we spent a lot of time getting to know the data—what it looked like, how the brain responded, and what kind of patterns we could find. That made a big difference in how we approached the project and where we think it could go next.\n",
    "\n",
    "# Spike Patterns That Mattered\n",
    "One of the first things we noticed when we plotted the neural activity was that most of the spike action happens in the first 200–300 milliseconds after a face is shown. That makes sense, since the AM face patch responds fast when it sees a face. That early spike window probably holds the most valuable information. If we had more time, we’d definitely experiment with focusing only on those early time bins to cut down on noise and maybe even boost performance.\n",
    "\n",
    " # Playing with Categorical Features\n",
    "The dataset came with some extra columns like monkey name, brain region, and head orientation. At first, we weren’t sure if they’d help, but we included them just in case. We started with label encoding, but eventually switched to one-hot encoding, especially since Random Forests handle that better. It made the model more stable.\n",
    "\n",
    "That said, we realized including features like “monkey ID” might make the model pick up on who the monkey is instead of who the face is, which is not what we want. If we continued the project, we’d definitely try to control for that kind of bias.\n",
    "\n",
    "# PCA: A Lesson Learned\n",
    "We also tried using PCA to reduce the number of features, but things didn’t go as planned. At first, the model’s accuracy was way off, and we couldn’t figure out why. Turns out, we weren’t actually loading all the spike columns correctly—just a small chunk. Once we fixed that, things made a lot more sense. It was frustrating in the moment, but a good reminder that if your model suddenly tanks, check your data before assuming the algorithm is the problem. With proper setup, PCA still seems like a useful tool, especially to clean up the feature space.\n",
    "\n",
    "#  More Than Just Classification\n",
    "While our main goal was decoding face identity, there’s a lot more you could do with this dataset. For example:\n",
    "\n",
    "Try predicting head orientation instead of identity\n",
    "Look at how different orientations affect spike patterns\n",
    "Explore whether different monkeys respond in slightly different ways\n",
    "Even dive into regression tasks like predicting total spike counts or response intensity\n",
    "🧠 Data Quality and Real-World Ideas\n",
    "The data was actually really well-balanced, which saved us from having to do a lot of resampling. That was super helpful. And because it’s clean and well-structured, it’d be a great fit for trying out things like real-time neural decoding or even testing ideas for brain-computer interfaces.\n",
    "\n",
    "# What We’d Do Next\n",
    "If we kept working on this, here’s where we’d take it:\n",
    "\n",
    "Focus only on the first 300ms of data\n",
    "Use PCA more carefully, now that we know how to load everything right\n",
    "Start controlling for monkey ID to make sure we’re not training on hidden biases\n",
    "Try predicting other stuff like head orientation or response strength\n",
    "Explore real-time decoding possibilities"
   ]
  },
  {
   "cell_type": "markdown",
   "metadata": {},
   "source": [
    "### Conclusion and Future Steps (Classification)"
   ]
  },
  {
   "cell_type": "markdown",
   "metadata": {},
   "source": [
    "Yes, neural activity contains enough information to classify face identity, especially when we carefully select the most informative features. The top 100 spike-time features were enough to train a model that performed far better than chance, while also reducing overfitting and improving generalization. This proves that meaningful identity-related signals exist in the AM face patch and can be decoded using machine learning — even from relatively short spike trains."
   ]
  },
  {
   "cell_type": "markdown",
   "metadata": {},
   "source": [
    "\n",
    "# Future Steps if we were to continue this project, here’s what we’d do next:\n",
    "\n",
    " Looking ahead, there are several directions we’d like to explore to improve and expand our project. First, combining data from multiple monkeys or recording sites would help us test whether our model generalizes well across individuals, not just within a single subject. We also noticed that most neural activity happened within the first 300 milliseconds after a face was shown, so focusing on this early window might boost accuracy and reduce noise even more . To make our models more efficient, we’d consider applying dimensionality reduction techniques like PCA to cut down on unnecessary features and focus on the most informative spike patterns. Lastly, testing these models on real-time data or expanding to other brain regions would help us understand whether identity-related signals are unique to the AM face patch or part of a broader network in the brain. \n",
    " \n",
    " Overall, this project was just the beginning. We learned a lot about decoding neural activity, and there’s so much potential to keep pushing it further with cleaner signals, smarter models, and real-time applications."
   ]
  },
  {
   "cell_type": "markdown",
   "metadata": {},
   "source": [
    "## Author contribution\n",
    "\n",
    "Sukaina was responsible for the classification portion of the project, including model selection, training, and evaluation.Sherry focused on the regression analysis and handled modeling tasks related to predicting continuous outcomes.Both team members met regularly at the library to collaborate, discuss their progress, and ensure the project was completed thoroughly and accurately. They reviewed each other’s work, shared feedback, and supported one another throughout the entire process.\n",
    "\n"
   ]
  },
  {
   "cell_type": "markdown",
   "metadata": {},
   "source": [
    "## References"
   ]
  },
  {
   "cell_type": "markdown",
   "metadata": {},
   "source": [
    "_(List the source(s) for any data and/or literature cited in your project.  Ideally, this should be formatted using a formal citation format (MLA or APA or other, your choice!).   Multiple free online citation generators are available such as <a href=\"http://www.easybib.com/style\">http://www.easybib.com/style</a>. **Important:** if you use **any** code that you find on the internet for your project you **must** cite it or you risk losing most/all of the points for you project.)_\n",
    "\n",
    "### Freiwald, W. A., & Tsao, D. Y. (2010). Functional compartmentalization and viewpoint generalization within the macaque face-processing system. Science, 330(6005), 845–851. https://doi.org/10.1126/science.1194908\n",
    "\n",
    "### Meyers, E. M., Borzello, M., Freiwald, W. A., & Tsao, D. Y. (2015). Intelligent information loss: The coding of facial identity, head pose, and non-face information in the macaque face patch system. Journal of Neuroscience, 35(18), 7069–7081. https://doi.org/10.1523/JNEUROSCI.3086-14.2015\n",
    "\n",
    "### Seaborn Developers. (2025). seaborn.countplot. Seaborn Documentation. https://seaborn.pydata.org/generated/seaborn.countplot.html\n",
    "\n",
    "### Sharma, A. (2024, May 27). Logistic regression with polynomial features. GeeksforGeeks. https://www.geeksforgeeks.org/logistic-regression-with-polynomial-features/\n",
    "\n",
    "### Sharma, A. (2025, February 28). Cross-validation in machine learning. GeeksforGeeks. https://www.geeksforgeeks.org/cross-validation-machine-learning/\n",
    "\n",
    "### Scikit-learn Developers. (n.d.). sklearn.svm.SVC. Scikit-learn Documentation. https://scikit-learn.org/stable/modules/generated/sklearn.svm.SVC.html\n",
    "\n",
    "### Kartik. (2025, January 29). K-Nearest Neighbor (KNN) algorithm. GeeksforGeeks. https://www.geeksforgeeks.org/k-nearest-neighbours/\n",
    "\n",
    "### OpenAI. ChatGPT (April 2025 version). 2025, https://chat.openai.com/.Note: ChatGPT was used to check  writing, coding explanations, and interpreting model results during the classification portion of the project and make sure to comment well on the coding parts."
   ]
  }
 ],
 "metadata": {
  "kernelspec": {
   "display_name": "Python 3.11 (default)",
   "language": "python",
   "name": "python3"
  },
  "language_info": {
   "codemirror_mode": {
    "name": "ipython",
    "version": 3
   },
   "file_extension": ".py",
   "mimetype": "text/x-python",
   "name": "python",
   "nbconvert_exporter": "python",
   "pygments_lexer": "ipython3",
   "version": "3.11.11"
  }
 },
 "nbformat": 4,
 "nbformat_minor": 4
}
