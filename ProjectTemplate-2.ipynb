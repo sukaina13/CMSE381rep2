{
 "cells": [
  {
   "cell_type": "markdown",
   "metadata": {},
   "source": [
    "# CMSE 381 Final Project Template"
   ]
  },
  {
   "cell_type": "markdown",
   "metadata": {},
   "source": [
    "#### CMSE 381 Final Project\n",
    "###  Group members: Sukaina Alkhalidy, Sherry\n",
    "###  Section_001\n",
    "####  The Freiwald Tsao Face View AM dataset"
   ]
  },
  {
   "cell_type": "markdown",
   "metadata": {},
   "source": [
    "# Neural Decoding of Faces and Head Orientation"
   ]
  },
  {
   "cell_type": "markdown",
   "metadata": {},
   "source": [
    "# Background and Motivation"
   ]
  },
  {
   "cell_type": "markdown",
   "metadata": {},
   "source": [
    "_(Provide context for the problem.  **Clearly state the question(s) you set\n",
    "out to answer.**)_"
   ]
  },
  {
   "cell_type": "markdown",
   "metadata": {},
   "source": [
    "##### Have you ever wondered how our brains recognize faces—instantly and effortlessly—even when the face is turned at an angle or partially obscured? This project dives into that mystery using real neural data. Specifically, we study activity recorded from the anterior medial (AM) face patch, a brain region in macaque monkeys that lights up when a face is seen.Our dataset comes from a neuroscience experiment where monkeys viewed images of 25 different human faces, shown from 8 different orientations. At the same time, scientists recorded neural spike activity from the AM region of the brain with millisecond precision.\n",
    "\n",
    "##### Our main question is: Can we decode what the monkey was looking at—specifically the face identity—just by analyzing the neural activity?\n",
    "### This task, known as neural decoding, has fascinating implications for neuroscience, artificial intelligence, and even future brain-computer interfaces. By applying machine learning to this spike train data, we aim to:\n",
    "\n",
    "#### Classify which face was shown based solely on neural responses.\n",
    "#### Compare different classifiers (Random Forest, SVC, KNN) to determine which performs best.\n",
    "#### Understand which neurons and time windows are most informative in decoding face identity.\n",
    "#### This project connects neuroscience and machine learning—giving us insight into both how the brain works and how we can model it computationally."
   ]
  },
  {
   "cell_type": "markdown",
   "metadata": {},
   "source": [
    "\n",
    "# question 1 :Can we classify the face identity seen by the subject using neuron activity?"
   ]
  },
  {
   "cell_type": "markdown",
   "metadata": {},
   "source": [
    "## Methodology\n",
    "_(How did you go about answering your question(s)? You should wrote some code here to demonstrate what the data is like and how in principle your method works. You can leave the variations of the related to specific results to the results section.)_"
   ]
  },
  {
   "cell_type": "markdown",
   "metadata": {},
   "source": [
    "# importing everything "
   ]
  },
  {
   "cell_type": "code",
   "execution_count": 1,
   "metadata": {},
   "outputs": [
    {
     "name": "stdout",
     "output_type": "stream",
     "text": [
      "The history saving thread hit an unexpected error (OperationalError('attempt to write a readonly database')).History will not be written to the database.\n",
      "Defaulting to user installation because normal site-packages is not writeable\n",
      "Requirement already satisfied: numpy<2 in /home/alkhal13/.local/lib/python3.11/site-packages (1.26.4)\n",
      "Requirement already satisfied: matplotlib in /home/alkhal13/.local/lib/python3.11/site-packages (3.7.1)\n",
      "Requirement already satisfied: contourpy>=1.0.1 in /opt/miniconda3/lib/python3.11/site-packages (from matplotlib) (1.3.1)\n",
      "Requirement already satisfied: cycler>=0.10 in /opt/miniconda3/lib/python3.11/site-packages (from matplotlib) (0.12.1)\n",
      "Requirement already satisfied: fonttools>=4.22.0 in /opt/miniconda3/lib/python3.11/site-packages (from matplotlib) (4.55.3)\n",
      "Requirement already satisfied: kiwisolver>=1.0.1 in /opt/miniconda3/lib/python3.11/site-packages (from matplotlib) (1.4.7)\n",
      "Requirement already satisfied: packaging>=20.0 in /opt/miniconda3/lib/python3.11/site-packages (from matplotlib) (24.2)\n",
      "Requirement already satisfied: pillow>=6.2.0 in /opt/miniconda3/lib/python3.11/site-packages (from matplotlib) (10.2.0)\n",
      "Requirement already satisfied: pyparsing>=2.3.1 in /opt/miniconda3/lib/python3.11/site-packages (from matplotlib) (3.2.1)\n",
      "Requirement already satisfied: python-dateutil>=2.7 in /opt/miniconda3/lib/python3.11/site-packages (from matplotlib) (2.9.0.post0)\n",
      "Requirement already satisfied: six>=1.5 in /opt/miniconda3/lib/python3.11/site-packages (from python-dateutil>=2.7->matplotlib) (1.17.0)\n",
      "Note: you may need to restart the kernel to use updated packages.\n"
     ]
    }
   ],
   "source": [
    "pip install \"numpy<2\" matplotlib"
   ]
  },
  {
   "cell_type": "code",
   "execution_count": 2,
   "metadata": {},
   "outputs": [],
   "source": [
    "import os\n",
    "import numpy as np\n",
    "import pandas as pd\n",
    "import matplotlib.pyplot as plt\n",
    "import seaborn as sns\n",
    "\n",
    "from sklearn.model_selection import train_test_split, cross_val_score\n",
    "from sklearn.preprocessing import StandardScaler, LabelEncoder, PolynomialFeatures\n",
    "from sklearn.ensemble import RandomForestClassifier\n",
    "from sklearn.svm import SVC\n",
    "from sklearn.neighbors import KNeighborsClassifier\n",
    "from sklearn.linear_model import LogisticRegression\n",
    "from sklearn.pipeline import make_pipeline\n",
    "from sklearn.metrics import accuracy_score, classification_report, confusion_matrix\n",
    "\n",
    "# Enable inline plotting for Jupyter Notebook\n",
    "%matplotlib inline\n",
    "\n"
   ]
  },
  {
   "cell_type": "markdown",
   "metadata": {},
   "source": [
    "# First, we load the dataset from the extracted folder and inspect its structure."
   ]
  },
  {
   "cell_type": "code",
   "execution_count": 3,
   "metadata": {},
   "outputs": [
    {
     "name": "stdout",
     "output_type": "stream",
     "text": [
      "Combined DataFrame shape: (187658, 806)\n",
      "  site_info.monkey site_info.region  labels.stimID  labels.person  \\\n",
      "0             bert               am              1              1   \n",
      "1             bert               am              1              1   \n",
      "2             bert               am              1              1   \n",
      "3             bert               am              2              2   \n",
      "4             bert               am              2              2   \n",
      "\n",
      "  labels.orientation labels.orient_person_combo  time.1_2  time.2_3  time.3_4  \\\n",
      "0              front                    front 1         0         0         0   \n",
      "1              front                    front 1         0         0         0   \n",
      "2              front                    front 1         0         0         0   \n",
      "3              front                    front 2         0         0         0   \n",
      "4              front                    front 2         0         1         0   \n",
      "\n",
      "   time.4_5  ...  time.791_792  time.792_793  time.793_794  time.794_795  \\\n",
      "0         0  ...             0             0             0             0   \n",
      "1         0  ...             0             0             0             0   \n",
      "2         0  ...             0             0             0             0   \n",
      "3         0  ...             0             0             0             0   \n",
      "4         0  ...             0             0             0             0   \n",
      "\n",
      "   time.795_796  time.796_797  time.797_798  time.798_799  time.799_800  \\\n",
      "0             0             0             0             0             1   \n",
      "1             0             0             0             0             0   \n",
      "2             0             0             0             0             0   \n",
      "3             0             0             0             0             0   \n",
      "4             0             0             0             0             0   \n",
      "\n",
      "   time.800_801  \n",
      "0             0  \n",
      "1             0  \n",
      "2             0  \n",
      "3             0  \n",
      "4             0  \n",
      "\n",
      "[5 rows x 806 columns]\n",
      "<class 'pandas.core.frame.DataFrame'>\n",
      "RangeIndex: 187658 entries, 0 to 187657\n",
      "Columns: 806 entries, site_info.monkey to time.800_801\n",
      "dtypes: int64(802), object(4)\n",
      "memory usage: 1.1+ GB\n",
      "None\n"
     ]
    }
   ],
   "source": [
    "import os\n",
    "import pandas as pd\n",
    "\n",
    "# Define the dataset folder path\n",
    "folder_path = \"Freiwald_Tsao_faceviews_AM_data_csv\"\n",
    "\n",
    "# List all CSV files in the folder\n",
    "csv_files = [f for f in os.listdir(folder_path) if f.endswith('.csv')]\n",
    "\n",
    "# Initialize an empty list to collect all DataFrames\n",
    "df_list = []\n",
    "\n",
    "# Loop through each CSV and append its DataFrame to the list\n",
    "for file in csv_files:\n",
    "    file_path = os.path.join(folder_path, file)\n",
    "    df = pd.read_csv(file_path)\n",
    "    df_list.append(df)\n",
    "\n",
    "# Combine all DataFrames into one\n",
    "combined_df = pd.concat(df_list, ignore_index=True)\n",
    "\n",
    "# Display summary\n",
    "print(\"Combined DataFrame shape:\", combined_df.shape)\n",
    "print(combined_df.head())\n",
    "print(combined_df.info())\n"
   ]
  },
  {
   "cell_type": "markdown",
   "metadata": {},
   "source": [
    "# Handling Missing Data\n",
    "## The dataset has no explicit missing values, but we handle any potential issues."
   ]
  },
  {
   "cell_type": "code",
   "execution_count": 27,
   "metadata": {},
   "outputs": [
    {
     "name": "stdout",
     "output_type": "stream",
     "text": [
      "Dataset shape after cleaning: (1738, 806)\n"
     ]
    }
   ],
   "source": [
    "df = df.replace('?', np.nan)  # Convert '?' to NaN if applicable\n",
    "df = df.dropna()  # Drop rows with missing values\n",
    "print(\"Dataset shape after cleaning:\", df.shape)\n"
   ]
  },
  {
   "cell_type": "code",
   "execution_count": 28,
   "metadata": {},
   "outputs": [
    {
     "name": "stdout",
     "output_type": "stream",
     "text": [
      "site_info.monkey      object\n",
      "site_info.region      object\n",
      "labels.stimID          int64\n",
      "labels.person          int64\n",
      "labels.orientation    object\n",
      "                       ...  \n",
      "time.796_797           int64\n",
      "time.797_798           int64\n",
      "time.798_799           int64\n",
      "time.799_800           int64\n",
      "time.800_801           int64\n",
      "Length: 806, dtype: object\n"
     ]
    }
   ],
   "source": [
    "print(df.dtypes)  # Check column data types\n"
   ]
  },
  {
   "cell_type": "code",
   "execution_count": 4,
   "metadata": {},
   "outputs": [
    {
     "name": "stdout",
     "output_type": "stream",
     "text": [
      "First few rows:\n",
      "  site_info.monkey site_info.region  labels.stimID  labels.person  \\\n",
      "0             lupo               am              1              1   \n",
      "1             lupo               am              1              1   \n",
      "2             lupo               am              1              1   \n",
      "3             lupo               am              1              1   \n",
      "4             lupo               am              1              1   \n",
      "\n",
      "  labels.orientation labels.orient_person_combo  time.1_2  time.2_3  time.3_4  \\\n",
      "0              front                    front 1         0         0         0   \n",
      "1              front                    front 1         0         0         0   \n",
      "2              front                    front 1         0         0         0   \n",
      "3              front                    front 1         0         0         0   \n",
      "4              front                    front 1         0         0         0   \n",
      "\n",
      "   time.4_5  ...  time.791_792  time.792_793  time.793_794  time.794_795  \\\n",
      "0         0  ...             0             0             0             0   \n",
      "1         0  ...             0             0             0             0   \n",
      "2         0  ...             0             0             0             0   \n",
      "3         0  ...             0             0             0             0   \n",
      "4         0  ...             0             0             0             0   \n",
      "\n",
      "   time.795_796  time.796_797  time.797_798  time.798_799  time.799_800  \\\n",
      "0             0             0             0             0             0   \n",
      "1             0             0             0             0             0   \n",
      "2             0             0             0             0             0   \n",
      "3             0             0             0             0             0   \n",
      "4             0             0             0             0             0   \n",
      "\n",
      "   time.800_801  \n",
      "0             0  \n",
      "1             0  \n",
      "2             0  \n",
      "3             0  \n",
      "4             0  \n",
      "\n",
      "[5 rows x 806 columns]\n",
      "Column types:\n",
      "int64     802\n",
      "object      4\n",
      "Name: count, dtype: int64\n",
      "Face identity distribution:\n",
      "labels.person\n",
      "1     71\n",
      "2     69\n",
      "3     67\n",
      "4     72\n",
      "5     72\n",
      "6     67\n",
      "7     72\n",
      "8     68\n",
      "9     73\n",
      "10    69\n",
      "11    67\n",
      "12    66\n",
      "13    72\n",
      "14    69\n",
      "15    74\n",
      "16    67\n",
      "17    66\n",
      "18    72\n",
      "19    69\n",
      "20    69\n",
      "21    69\n",
      "22    72\n",
      "23    68\n",
      "24    71\n",
      "25    67\n",
      "Name: count, dtype: int64\n"
     ]
    }
   ],
   "source": [
    "# Peek at the data\n",
    "print(\"First few rows:\")\n",
    "print(df.head())\n",
    "\n",
    "# Check what types of data we’re working with\n",
    "print(\"Column types:\")\n",
    "print(df.dtypes.value_counts())\n",
    "\n",
    "# See what categories we're predicting\n",
    "print(\"Face identity distribution:\")\n",
    "print(df['labels.person'].value_counts().sort_index())"
   ]
  },
  {
   "cell_type": "markdown",
   "metadata": {},
   "source": [
    "#plot of the neural activity for one trial:"
   ]
  },
  {
   "cell_type": "code",
   "execution_count": 5,
   "metadata": {},
   "outputs": [
    {
     "data": {
      "image/png": "[encoded data removed]",
      "text/plain": [
       "<Figure size 640x480 with 1 Axes>"
      ]
     },
     "metadata": {},
     "output_type": "display_data"
    }
   ],
   "source": [
    "import matplotlib.pyplot as plt\n",
    "\n",
    "spike_columns = [col for col in df.columns if 'time.' in col]\n",
    "plt.plot(df.loc[0, spike_columns].values)\n",
    "plt.title(\"Neural Spike Pattern (One Trial)\")\n",
    "plt.xlabel(\"Time (ms)\")\n",
    "plt.ylabel(\"Neuron Fired (0 = No, 1 = Yes)\")\n",
    "plt.show()\n"
   ]
  },
  {
   "cell_type": "markdown",
   "metadata": {},
   "source": [
    "# Models for classification \n",
    "_(What models will you be using for classification? Why did you choose to use them? What questions would you answer with them? How would you evaluate if each model? What cross-validation method did you use?)_"
   ]
  },
  {
   "cell_type": "markdown",
   "metadata": {},
   "source": [
    "# Can We Decode Face Identity Using Neural Activity?\n",
    "### To figure out if we could classify who the monkey was looking at based on its brain activity, we tested several machine learning models. Since this is a multi-class classification problem with 25 different face identities, we selected models that are well-suited for high-dimensional, sparse data and capable of handling many output classes.\n",
    "\n",
    "# Random Forest\n",
    "##### We started with a Random Forest classifier because it's excellent at handling noisy, high-dimensional data—which perfectly describes neural spike patterns. Another benefit is that it can help highlight which features (like specific time bins or neurons) are the most informative.This model performed the best, achieving an accuracy of about 34%, which is strong considering the chance level is only 4% (1 out of 25).\n",
    "\n",
    "#  Support Vector Classifier (SVC)\n",
    "##### We also tried a Support Vector Machine with a linear kernel. SVMs are powerful in high-dimensional spaces, but they can struggle when there are many overlapping classes, like in our 25-class setup.This model underperformed—likely because of the sparse and complex nature of the spike data.\n",
    "\n",
    "\n",
    "### K-Nearest Neighbors (KNN)\n",
    "##### We used KNN as a baseline non-parametric model. It classifies each trial based on the identity of nearby points in neural space. While it’s simple and easy to implement, KNN doesn’t scale well with high-dimensional data. Its performance was better than SVC but still lower than Random Forest.\n",
    "\n",
    "\n",
    "# Questions These Models Help Answer\n",
    "#### Can we decode face identity based purely on neural activity?\n",
    "#### How well does each model handle complex, multi-class neural data?\n",
    "#### Which model is most accurate, and which gives us the most interpretable results?\n",
    "\n",
    "#### To assess model performance, we used:\n",
    "\n",
    "#### Accuracy – Overall proportion of correctly predicted identities\n",
    "#### Classification Report – Includes precision, recall, and F1-score for each identity\n",
    "#### Confusion Matrix – Helps visualize which identities are commonly confused\n",
    "#### Cross-Validation – We used 5-fold cross-validation to check for model consistency across different subsets of the data"
   ]
  },
  {
   "cell_type": "markdown",
   "metadata": {},
   "source": [
    "### question 1 :Can we classify the face identity seen by the subject using neuron activity?"
   ]
  },
  {
   "cell_type": "markdown",
   "metadata": {},
   "source": [
    "## Encode Categorical Variables"
   ]
  },
  {
   "cell_type": "code",
   "execution_count": 6,
   "metadata": {},
   "outputs": [
    {
     "name": "stdout",
     "output_type": "stream",
     "text": [
      "After encoding:\n",
      "   site_info.monkey  site_info.region  labels.orientation  \\\n",
      "0                 0                 0                   2   \n",
      "1                 0                 0                   2   \n",
      "2                 0                 0                   2   \n",
      "3                 0                 0                   2   \n",
      "4                 0                 0                   2   \n",
      "\n",
      "   labels.orient_person_combo  \n",
      "0                          50  \n",
      "1                          50  \n",
      "2                          50  \n",
      "3                          50  \n",
      "4                          50  \n"
     ]
    }
   ],
   "source": [
    "# Encode categorical columns\n",
    "label_encoder = LabelEncoder()\n",
    "\n",
    "categorical_cols = ['site_info.monkey', 'site_info.region', \n",
    "                    'labels.orientation', 'labels.orient_person_combo']\n",
    "\n",
    "for col in categorical_cols:\n",
    "    df[col] = label_encoder.fit_transform(df[col])\n",
    "\n",
    "print(\"After encoding:\")\n",
    "print(df[categorical_cols].head())\n"
   ]
  },
  {
   "cell_type": "markdown",
   "metadata": {},
   "source": [
    "## Set up Features and Labels\n",
    "## Train a Random Forest Classifier\n",
    "#### We'll use a Random Forest to classify which face identity (labels.person) the subject saw based on the neural activity."
   ]
  },
  {
   "cell_type": "code",
   "execution_count": 7,
   "metadata": {},
   "outputs": [
    {
     "name": "stdout",
     "output_type": "stream",
     "text": [
      "X_train shape: (1390, 804)\n",
      "y_train shape: (1390,)\n",
      "\n",
      "🌲 Random Forest Accuracy: 0.6264\n",
      "              precision    recall  f1-score   support\n",
      "\n",
      "           1       0.38      0.43      0.40         7\n",
      "           2       0.62      0.80      0.70        10\n",
      "           3       0.44      0.36      0.40        11\n",
      "           4       0.42      0.52      0.47        21\n",
      "           5       0.08      0.08      0.08        13\n",
      "           6       0.76      0.72      0.74        18\n",
      "           7       0.62      0.67      0.64        12\n",
      "           8       0.20      0.09      0.12        11\n",
      "           9       0.89      0.84      0.86        19\n",
      "          10       0.71      1.00      0.83        10\n",
      "          11       0.44      0.64      0.52        11\n",
      "          12       0.85      0.73      0.79        15\n",
      "          13       0.77      0.83      0.80        12\n",
      "          14       0.57      0.57      0.57        14\n",
      "          15       0.55      0.75      0.63        16\n",
      "          16       0.58      0.65      0.61        17\n",
      "          17       0.77      0.59      0.67        17\n",
      "          18       0.80      0.75      0.77        16\n",
      "          19       0.76      0.93      0.84        14\n",
      "          20       0.50      0.75      0.60         8\n",
      "          21       0.93      0.88      0.90        16\n",
      "          22       0.86      0.75      0.80        16\n",
      "          23       0.59      0.71      0.65        14\n",
      "          24       0.57      0.29      0.38        14\n",
      "          25       0.50      0.19      0.27        16\n",
      "\n",
      "    accuracy                           0.63       348\n",
      "   macro avg       0.61      0.62      0.60       348\n",
      "weighted avg       0.63      0.63      0.62       348\n",
      "\n",
      "\n",
      "🌲 Random Forest Accuracy: 0.6264\n",
      "              precision    recall  f1-score   support\n",
      "\n",
      "           1       0.38      0.43      0.40         7\n",
      "           2       0.62      0.80      0.70        10\n",
      "           3       0.44      0.36      0.40        11\n",
      "           4       0.42      0.52      0.47        21\n",
      "           5       0.08      0.08      0.08        13\n",
      "           6       0.76      0.72      0.74        18\n",
      "           7       0.62      0.67      0.64        12\n",
      "           8       0.20      0.09      0.12        11\n",
      "           9       0.89      0.84      0.86        19\n",
      "          10       0.71      1.00      0.83        10\n",
      "          11       0.44      0.64      0.52        11\n",
      "          12       0.85      0.73      0.79        15\n",
      "          13       0.77      0.83      0.80        12\n",
      "          14       0.57      0.57      0.57        14\n",
      "          15       0.55      0.75      0.63        16\n",
      "          16       0.58      0.65      0.61        17\n",
      "          17       0.77      0.59      0.67        17\n",
      "          18       0.80      0.75      0.77        16\n",
      "          19       0.76      0.93      0.84        14\n",
      "          20       0.50      0.75      0.60         8\n",
      "          21       0.93      0.88      0.90        16\n",
      "          22       0.86      0.75      0.80        16\n",
      "          23       0.59      0.71      0.65        14\n",
      "          24       0.57      0.29      0.38        14\n",
      "          25       0.50      0.19      0.27        16\n",
      "\n",
      "    accuracy                           0.63       348\n",
      "   macro avg       0.61      0.62      0.60       348\n",
      "weighted avg       0.63      0.63      0.62       348\n",
      "\n"
     ]
    }
   ],
   "source": [
    "# Define features (X) and labels (y)\n",
    "X = df.drop(columns=['labels.person', 'labels.stimID'])  # Features\n",
    "y = df['labels.person']  # Face identity (target)\n",
    "\n",
    "# Standardize the features\n",
    "scaler = StandardScaler()\n",
    "X_scaled = scaler.fit_transform(X)\n",
    "\n",
    "# Train-test split\n",
    "from sklearn.model_selection import train_test_split\n",
    "X_train, X_test, y_train, y_test = train_test_split(X_scaled, y, test_size=0.2, random_state=42)\n",
    "\n",
    "print(\"X_train shape:\", X_train.shape)\n",
    "print(\"y_train shape:\", y_train.shape)\n",
    "\n",
    "# Train Random Forest model\n",
    "rf_model = RandomForestClassifier(n_estimators=100, random_state=42)\n",
    "rf_model.fit(X_train, y_train)\n",
    "\n",
    "# Make predictions on the test set\n",
    "y_pred_rf = rf_model.predict(X_test)\n",
    "\n",
    "# Evaluate model performance\n",
    "print(\"\\n🌲 Random Forest Accuracy:\", round(accuracy_score(y_test, y_pred_rf), 4))\n",
    "print(classification_report(y_test, y_pred_rf))# Train Random Forest model\n",
    "rf_model = RandomForestClassifier(n_estimators=100, random_state=42)\n",
    "rf_model.fit(X_train, y_train)\n",
    "\n",
    "# Make predictions\n",
    "y_pred_rf = rf_model.predict(X_test)\n",
    "\n",
    "# Evaluate\n",
    "print(\"\\n🌲 Random Forest Accuracy:\", round(accuracy_score(y_test, y_pred_rf), 4))\n",
    "print(classification_report(y_test, y_pred_rf))\n",
    "\n"
   ]
  },
  {
   "cell_type": "markdown",
   "metadata": {},
   "source": [
    "#### Training the Random Forest model):"
   ]
  },
  {
   "cell_type": "code",
   "execution_count": 8,
   "metadata": {},
   "outputs": [
    {
     "name": "stdout",
     "output_type": "stream",
     "text": [
      "\n",
      "🌲 Random Forest Accuracy: 0.6264\n",
      "              precision    recall  f1-score   support\n",
      "\n",
      "           1       0.38      0.43      0.40         7\n",
      "           2       0.62      0.80      0.70        10\n",
      "           3       0.44      0.36      0.40        11\n",
      "           4       0.42      0.52      0.47        21\n",
      "           5       0.08      0.08      0.08        13\n",
      "           6       0.76      0.72      0.74        18\n",
      "           7       0.62      0.67      0.64        12\n",
      "           8       0.20      0.09      0.12        11\n",
      "           9       0.89      0.84      0.86        19\n",
      "          10       0.71      1.00      0.83        10\n",
      "          11       0.44      0.64      0.52        11\n",
      "          12       0.85      0.73      0.79        15\n",
      "          13       0.77      0.83      0.80        12\n",
      "          14       0.57      0.57      0.57        14\n",
      "          15       0.55      0.75      0.63        16\n",
      "          16       0.58      0.65      0.61        17\n",
      "          17       0.77      0.59      0.67        17\n",
      "          18       0.80      0.75      0.77        16\n",
      "          19       0.76      0.93      0.84        14\n",
      "          20       0.50      0.75      0.60         8\n",
      "          21       0.93      0.88      0.90        16\n",
      "          22       0.86      0.75      0.80        16\n",
      "          23       0.59      0.71      0.65        14\n",
      "          24       0.57      0.29      0.38        14\n",
      "          25       0.50      0.19      0.27        16\n",
      "\n",
      "    accuracy                           0.63       348\n",
      "   macro avg       0.61      0.62      0.60       348\n",
      "weighted avg       0.63      0.63      0.62       348\n",
      "\n"
     ]
    }
   ],
   "source": [
    "# Train Random Forest model\n",
    "rf_model = RandomForestClassifier(n_estimators=100, random_state=42)\n",
    "rf_model.fit(X_train, y_train)\n",
    "\n",
    "# Make predictions\n",
    "y_pred_rf = rf_model.predict(X_test)\n",
    "\n",
    "# Evaluate\n",
    "print(\"\\n🌲 Random Forest Accuracy:\", round(accuracy_score(y_test, y_pred_rf), 4))\n",
    "print(classification_report(y_test, y_pred_rf))\n"
   ]
  },
  {
   "cell_type": "markdown",
   "metadata": {},
   "source": [
    "# Import visualization tools"
   ]
  },
  {
   "cell_type": "code",
   "execution_count": 9,
   "metadata": {},
   "outputs": [
    {
     "data": {
      "image/png": "[encoded data removed]",
      "text/plain": [
       "<Figure size 1200x800 with 2 Axes>"
      ]
     },
     "metadata": {},
     "output_type": "display_data"
    }
   ],
   "source": [
    "import matplotlib.pyplot as plt\n",
    "import seaborn as sns\n",
    "from sklearn.metrics import confusion_matrix\n",
    "\n",
    "# Create the confusion matrix\n",
    "cm = confusion_matrix(y_test, y_pred_rf)\n",
    "\n",
    "# Plot it\n",
    "plt.figure(figsize=(12, 8))\n",
    "sns.heatmap(cm, cmap='Blues', xticklabels=np.unique(y), yticklabels=np.unique(y))\n",
    "plt.xlabel(\"Predicted Label\")\n",
    "plt.ylabel(\"True Label\")\n",
    "plt.title(\"Confusion Matrix - Random Forest\")\n",
    "plt.show()\n"
   ]
  },
  {
   "cell_type": "markdown",
   "metadata": {},
   "source": [
    "#  7A. Train & Evaluate Support Vector Classifier (SVC)"
   ]
  },
  {
   "cell_type": "code",
   "execution_count": 11,
   "metadata": {
    "scrolled": true
   },
   "outputs": [
    {
     "name": "stdout",
     "output_type": "stream",
     "text": [
      "\n",
      "🔷 SVC Accuracy: 0.0805\n",
      "              precision    recall  f1-score   support\n",
      "\n",
      "           1       0.00      0.00      0.00         7\n",
      "           2       0.00      0.00      0.00        10\n",
      "           3       0.00      0.00      0.00        11\n",
      "           4       0.00      0.00      0.00        21\n",
      "           5       0.00      0.00      0.00        13\n",
      "           6       0.00      0.00      0.00        18\n",
      "           7       0.20      0.08      0.12        12\n",
      "           8       0.00      0.00      0.00        11\n",
      "           9       0.16      0.79      0.26        19\n",
      "          10       0.09      0.10      0.10        10\n",
      "          11       0.00      0.00      0.00        11\n",
      "          12       0.07      0.33      0.12        15\n",
      "          13       0.08      0.08      0.08        12\n",
      "          14       0.05      0.07      0.06        14\n",
      "          15       0.14      0.06      0.09        16\n",
      "          16       0.00      0.00      0.00        17\n",
      "          17       0.00      0.00      0.00        17\n",
      "          18       0.00      0.00      0.00        16\n",
      "          19       0.14      0.07      0.10        14\n",
      "          20       0.00      0.00      0.00         8\n",
      "          21       0.00      0.00      0.00        16\n",
      "          22       0.00      0.00      0.00        16\n",
      "          23       0.25      0.07      0.11        14\n",
      "          24       0.00      0.00      0.00        14\n",
      "          25       0.33      0.06      0.11        16\n",
      "\n",
      "    accuracy                           0.08       348\n",
      "   macro avg       0.06      0.07      0.05       348\n",
      "weighted avg       0.06      0.08      0.05       348\n",
      "\n"
     ]
    }
   ],
   "source": [
    "# Train SVC\n",
    "svc_model = SVC(kernel='linear')\n",
    "svc_model.fit(X_train, y_train)\n",
    "\n",
    "# Predict\n",
    "y_pred_svc = svc_model.predict(X_test)\n",
    "\n",
    "# Evaluate\n",
    "print(\"\\n🔷 SVC Accuracy:\", round(accuracy_score(y_test, y_pred_svc), 4))\n",
    "print(classification_report(y_test, y_pred_svc))\n"
   ]
  },
  {
   "cell_type": "markdown",
   "metadata": {},
   "source": [
    "# 7B. Train & Evaluate K-Nearest Neighbors (KNN)"
   ]
  },
  {
   "cell_type": "code",
   "execution_count": 14,
   "metadata": {},
   "outputs": [
    {
     "name": "stdout",
     "output_type": "stream",
     "text": [
      "\n",
      "🔸 KNN Accuracy: 0.3764\n",
      "              precision    recall  f1-score   support\n",
      "\n",
      "           1       0.09      0.29      0.14         7\n",
      "           2       0.20      0.40      0.27        10\n",
      "           3       0.12      0.18      0.15        11\n",
      "           4       0.32      0.52      0.40        21\n",
      "           5       0.00      0.00      0.00        13\n",
      "           6       0.50      0.44      0.47        18\n",
      "           7       0.37      0.58      0.45        12\n",
      "           8       0.14      0.09      0.11        11\n",
      "           9       0.79      0.58      0.67        19\n",
      "          10       0.57      0.40      0.47        10\n",
      "          11       0.33      0.55      0.41        11\n",
      "          12       0.45      0.33      0.38        15\n",
      "          13       0.33      0.33      0.33        12\n",
      "          14       0.39      0.50      0.44        14\n",
      "          15       0.42      0.50      0.46        16\n",
      "          16       0.45      0.29      0.36        17\n",
      "          17       0.40      0.12      0.18        17\n",
      "          18       0.41      0.44      0.42        16\n",
      "          19       0.53      0.64      0.58        14\n",
      "          20       0.36      0.50      0.42         8\n",
      "          21       0.67      0.62      0.65        16\n",
      "          22       0.67      0.25      0.36        16\n",
      "          23       0.30      0.50      0.38        14\n",
      "          24       0.00      0.00      0.00        14\n",
      "          25       0.75      0.19      0.30        16\n",
      "\n",
      "    accuracy                           0.38       348\n",
      "   macro avg       0.38      0.37      0.35       348\n",
      "weighted avg       0.41      0.38      0.37       348\n",
      "\n"
     ]
    },
    {
     "name": "stderr",
     "output_type": "stream",
     "text": [
      "/opt/miniconda3/lib/python3.11/site-packages/sklearn/metrics/_classification.py:1565: UndefinedMetricWarning: Precision is ill-defined and being set to 0.0 in labels with no predicted samples. Use `zero_division` parameter to control this behavior.\n",
      "  _warn_prf(average, modifier, f\"{metric.capitalize()} is\", len(result))\n",
      "/opt/miniconda3/lib/python3.11/site-packages/sklearn/metrics/_classification.py:1565: UndefinedMetricWarning: Precision is ill-defined and being set to 0.0 in labels with no predicted samples. Use `zero_division` parameter to control this behavior.\n",
      "  _warn_prf(average, modifier, f\"{metric.capitalize()} is\", len(result))\n",
      "/opt/miniconda3/lib/python3.11/site-packages/sklearn/metrics/_classification.py:1565: UndefinedMetricWarning: Precision is ill-defined and being set to 0.0 in labels with no predicted samples. Use `zero_division` parameter to control this behavior.\n",
      "  _warn_prf(average, modifier, f\"{metric.capitalize()} is\", len(result))\n"
     ]
    }
   ],
   "source": [
    "# Train KNN\n",
    "knn_model = KNeighborsClassifier(n_neighbors=5)\n",
    "knn_model.fit(X_train, y_train)\n",
    "\n",
    "# Predict\n",
    "y_pred_knn = knn_model.predict(X_test)\n",
    "\n",
    "# Evaluate\n",
    "print(\"\\n🔸 KNN Accuracy:\", round(accuracy_score(y_test, y_pred_knn), 4))\n",
    "print(classification_report(y_test, y_pred_knn))\n"
   ]
  },
  {
   "cell_type": "code",
   "execution_count": 15,
   "metadata": {},
   "outputs": [
    {
     "name": "stdout",
     "output_type": "stream",
     "text": [
      "\n",
      "📊 Model Comparison:\n",
      "Random Forest Accuracy: 0.6264\n",
      "SVC Accuracy: 0.0805\n",
      "KNN Accuracy: 0.3764\n"
     ]
    }
   ],
   "source": [
    "# Accuracy summary\n",
    "print(\"\\n📊 Model Comparison:\")\n",
    "print(\"Random Forest Accuracy:\", round(accuracy_score(y_test, y_pred_rf), 4))\n",
    "print(\"SVC Accuracy:\", round(accuracy_score(y_test, y_pred_svc), 4))\n",
    "print(\"KNN Accuracy:\", round(accuracy_score(y_test, y_pred_knn), 4))\n"
   ]
  },
  {
   "cell_type": "markdown",
   "metadata": {},
   "source": [
    "####  Exploratory Data Analysis (EDA) Now, let's analyze the data to understand its distribution.\n",
    "#### Check the Distribution of Labels (Face Identity & Orientation)"
   ]
  },
  {
   "cell_type": "code",
   "execution_count": 16,
   "metadata": {},
   "outputs": [
    {
     "data": {
      "image/png": "[encoded data removed]",
      "text/plain": [
       "<Figure size 1000x400 with 1 Axes>"
      ]
     },
     "metadata": {},
     "output_type": "display_data"
    },
    {
     "data": {
      "image/png": "[encoded data removed]",
      "text/plain": [
       "<Figure size 800x400 with 1 Axes>"
      ]
     },
     "metadata": {},
     "output_type": "display_data"
    }
   ],
   "source": [
    "\n",
    "plt.figure(figsize=(10, 4))\n",
    "\n",
    "# Count of different individuals in the dataset\n",
    "sns.countplot(x=df[\"labels.person\"])\n",
    "plt.title(\"Distribution of Face Identities in Dataset\")\n",
    "plt.xlabel(\"Person ID\")\n",
    "plt.ylabel(\"Count\")\n",
    "plt.show()\n",
    "\n",
    "plt.figure(figsize=(8, 4))\n",
    "\n",
    "# Count of different orientations\n",
    "sns.countplot(x=df[\"labels.orientation\"])\n",
    "plt.title(\"Distribution of Head Orientations\")\n",
    "plt.xlabel(\"Orientation\")\n",
    "plt.ylabel(\"Count\")\n",
    "plt.xticks(rotation=45)\n",
    "plt.show()\n"
   ]
  },
  {
   "cell_type": "code",
   "execution_count": null,
   "metadata": {},
   "outputs": [],
   "source": []
  },
  {
   "cell_type": "markdown",
   "metadata": {},
   "source": [
    "# 7A. Train & Evaluate Support Vector Classifier (SVC)¶"
   ]
  },
  {
   "cell_type": "code",
   "execution_count": 17,
   "metadata": {},
   "outputs": [
    {
     "name": "stdout",
     "output_type": "stream",
     "text": [
      "Random Forest Classifier Accuracy: 1.0\n",
      "              precision    recall  f1-score   support\n",
      "\n",
      "           1       1.00      1.00      1.00         7\n",
      "           2       1.00      1.00      1.00        10\n",
      "           3       1.00      1.00      1.00        11\n",
      "           4       1.00      1.00      1.00        21\n",
      "           5       1.00      1.00      1.00        13\n",
      "           6       1.00      1.00      1.00        18\n",
      "           7       1.00      1.00      1.00        12\n",
      "           8       1.00      1.00      1.00        11\n",
      "           9       1.00      1.00      1.00        19\n",
      "          10       1.00      1.00      1.00        10\n",
      "          11       1.00      1.00      1.00        11\n",
      "          12       1.00      1.00      1.00        15\n",
      "          13       1.00      1.00      1.00        12\n",
      "          14       1.00      1.00      1.00        14\n",
      "          15       1.00      1.00      1.00        16\n",
      "          16       1.00      1.00      1.00        17\n",
      "          17       1.00      1.00      1.00        17\n",
      "          18       1.00      1.00      1.00        16\n",
      "          19       1.00      1.00      1.00        14\n",
      "          20       1.00      1.00      1.00         8\n",
      "          21       1.00      1.00      1.00        16\n",
      "          22       1.00      1.00      1.00        16\n",
      "          23       1.00      1.00      1.00        14\n",
      "          24       1.00      1.00      1.00        14\n",
      "          25       1.00      1.00      1.00        16\n",
      "\n",
      "    accuracy                           1.00       348\n",
      "   macro avg       1.00      1.00      1.00       348\n",
      "weighted avg       1.00      1.00      1.00       348\n",
      "\n"
     ]
    }
   ],
   "source": [
    "# \n",
    "df = pd.get_dummies(df, columns=['site_info.monkey', 'site_info.region', 'labels.orientation', 'labels.orient_person_combo'])\n",
    "\n",
    "# Drop non-feature columns (target variable and any metadata not needed)\n",
    "X = df.drop(columns=['labels.person', 'labels.stimID'])\n",
    "y = df['labels.person']  # Target variable\n",
    "\n",
    "# Train-test split\n",
    "X_train, X_test, y_train, y_test = train_test_split(X, y, test_size=0.2, random_state=42)\n",
    "\n",
    "# Standardizing numerical features\n",
    "scaler = StandardScaler()\n",
    "X_train = scaler.fit_transform(X_train)\n",
    "X_test = scaler.transform(X_test)\n",
    "rf_model = RandomForestClassifier(n_estimators=100, random_state=42)\n",
    "rf_model.fit(X_train, y_train)\n",
    "y_pred_rf = rf_model.predict(X_test)\n",
    "\n",
    "# Evaluate performance\n",
    "print(\"Random Forest Classifier Accuracy:\", accuracy_score(y_test, y_pred_rf))\n",
    "print(classification_report(y_test, y_pred_rf))"
   ]
  },
  {
   "cell_type": "markdown",
   "metadata": {},
   "source": [
    "# Summary of Fixes (in plain terms):\n",
    "\n",
    "SVC Now Works Better: We changed the kernel from linear to rbf, which is a better fit for this kind of high-dimensional, non-linear brain data.\n",
    "\n",
    " No More Data Leakage: We made sure to scale and encode the data before splitting into training and test sets, so the model doesn’t accidentally “peek” at the test data during training.\n",
    "\n",
    " Easier to Read Results: We cleaned up the evaluation so all the accuracy and performance metrics are printed neatly in one place."
   ]
  },
  {
   "cell_type": "code",
   "execution_count": 18,
   "metadata": {},
   "outputs": [
    {
     "name": "stdout",
     "output_type": "stream",
     "text": [
      "\n",
      "🔷 SVC (RBF Kernel) Accuracy: 0.6293\n",
      "              precision    recall  f1-score   support\n",
      "\n",
      "           1       0.56      0.71      0.62         7\n",
      "           2       0.86      0.60      0.71        10\n",
      "           3       0.83      0.45      0.59        11\n",
      "           4       1.00      0.67      0.80        21\n",
      "           5       0.64      0.54      0.58        13\n",
      "           6       1.00      0.67      0.80        18\n",
      "           7       1.00      0.33      0.50        12\n",
      "           8       0.86      0.55      0.67        11\n",
      "           9       1.00      0.58      0.73        19\n",
      "          10       1.00      0.80      0.89        10\n",
      "          11       0.88      0.64      0.74        11\n",
      "          12       0.90      0.60      0.72        15\n",
      "          13       0.83      0.42      0.56        12\n",
      "          14       1.00      0.57      0.73        14\n",
      "          15       1.00      0.69      0.81        16\n",
      "          16       1.00      0.76      0.87        17\n",
      "          17       0.90      0.53      0.67        17\n",
      "          18       0.90      0.56      0.69        16\n",
      "          19       1.00      0.86      0.92        14\n",
      "          20       0.75      0.75      0.75         8\n",
      "          21       1.00      0.75      0.86        16\n",
      "          22       1.00      0.75      0.86        16\n",
      "          23       1.00      0.64      0.78        14\n",
      "          24       0.11      1.00      0.20        14\n",
      "          25       1.00      0.31      0.48        16\n",
      "\n",
      "    accuracy                           0.63       348\n",
      "   macro avg       0.88      0.63      0.70       348\n",
      "weighted avg       0.90      0.63      0.71       348\n",
      "\n"
     ]
    }
   ],
   "source": [
    "# Support Vector Classifier (SVC) with RBF kernel better than linear \n",
    "\n",
    "svc_model = SVC(kernel='rbf', C=1, gamma='scale')  # RBF kernel handles non-linear boundaries better\n",
    "svc_model.fit(X_train, y_train)\n",
    "\n",
    "# Make predictions\n",
    "y_pred_svc = svc_model.predict(X_test)\n",
    "\n",
    "# Evaluate\n",
    "from sklearn.metrics import accuracy_score, classification_report\n",
    "print(\"\\n🔷 SVC (RBF Kernel) Accuracy:\", round(accuracy_score(y_test, y_pred_svc), 4))\n",
    "print(classification_report(y_test, y_pred_svc))\n"
   ]
  },
  {
   "cell_type": "code",
   "execution_count": null,
   "metadata": {},
   "outputs": [],
   "source": []
  },
  {
   "cell_type": "markdown",
   "metadata": {},
   "source": [
    "#  k-Fold Cross-Validation (Random Forest)"
   ]
  },
  {
   "cell_type": "code",
   "execution_count": 19,
   "metadata": {},
   "outputs": [
    {
     "name": "stdout",
     "output_type": "stream",
     "text": [
      " Random Forest CV Scores: [0.18390805 0.20402299 0.1954023  0.27377522 0.13832853]\n",
      "Average CV Accuracy (Random Forest): 0.1991\n"
     ]
    }
   ],
   "source": [
    "from sklearn.model_selection import cross_val_score\n",
    "\n",
    "# Perform 5-fold cross-validation on the entire scaled dataset\n",
    "cv_scores_rf = cross_val_score(rf_model, X_scaled, y, cv=5)\n",
    "\n",
    "print(\" Random Forest CV Scores:\", cv_scores_rf)\n",
    "print(\"Average CV Accuracy (Random Forest):\", round(np.mean(cv_scores_rf), 4))\n"
   ]
  },
  {
   "cell_type": "markdown",
   "metadata": {},
   "source": [
    "# Cross-Validation for SVC and KNN"
   ]
  },
  {
   "cell_type": "code",
   "execution_count": 20,
   "metadata": {},
   "outputs": [
    {
     "name": "stdout",
     "output_type": "stream",
     "text": [
      "🔷 SVC CV Accuracy: 0.0719\n",
      "🔸 KNN CV Accuracy: 0.1111\n"
     ]
    }
   ],
   "source": [
    "cv_scores_svc = cross_val_score(svc_model, X_scaled, y, cv=5)\n",
    "cv_scores_knn = cross_val_score(knn_model, X_scaled, y, cv=5)\n",
    "\n",
    "print(\"🔷 SVC CV Accuracy:\", round(np.mean(cv_scores_svc), 4))\n",
    "print(\"🔸 KNN CV Accuracy:\", round(np.mean(cv_scores_knn), 4))\n"
   ]
  },
  {
   "cell_type": "markdown",
   "metadata": {
    "vscode": {
     "languageId": "plaintext"
    }
   },
   "source": [
    "# Data\n",
    "_(Describe the data you are using. What variables are you using? What they mean? Why did you choose them?)_"
   ]
  },
  {
   "cell_type": "code",
   "execution_count": null,
   "metadata": {},
   "outputs": [],
   "source": []
  },
  {
   "cell_type": "markdown",
   "metadata": {},
   "source": [
    "##### The dataset we used comes from a neuroscience experiment where a monkey passively viewed images of human faces. The neural activity was recorded from a specific area of the brain called the anterior medial (AM) face patch, which is known to be involved in facial recognition.\n",
    "\n",
    "##### Each row in the dataset represents a single trial, meaning one face image shown to the monkey. During each trial, the monkey saw a face for 200 milliseconds, and the neural activity was tracked in 1-millisecond intervals up to 800ms. This gives us a detailed view of how the brain responds over time."
   ]
  },
  {
   "cell_type": "code",
   "execution_count": 21,
   "metadata": {},
   "outputs": [],
   "source": [
    "# you may need some code here to adjust the format or organization of your data so that\n",
    "# they can be used for the model\n"
   ]
  },
  {
   "cell_type": "markdown",
   "metadata": {},
   "source": [
    "## What’s in the data?"
   ]
  },
  {
   "cell_type": "markdown",
   "metadata": {},
   "source": [
    "### The dataset captures brain activity from a monkey viewing human faces. Each row represents a single trial, where the monkey was shown one face image, and its neural response was recorded over 800 milliseconds.\n",
    "\n",
    "#### Here’s what’s included:\n",
    "\n",
    "#### labels.person\n",
    "#### The ID of the person shown in the image. This is our main target variable for classification—our goal is to predict this based on brain activity.\n",
    "#### labels.orientation\n",
    "#### The head orientation of the face (e.g., front, left, right). While this isn’t our main focus, it's useful for future regression or classification tasks.\n",
    "#### time.1_2 to time.800_801\n",
    "#### These 800+ columns represent neural spike data. Each column corresponds to a 1 millisecond time bin.\n",
    "#### A value of 1 means the neuron fired in that millisecond.\n",
    "#### A value of 0 means it didn’t fire.\n",
    "#### These are the core features we use to train our models.\n",
    "#### Metadata columns like:\n",
    "#### site_info.monkey – Which monkey the data was collected from\n",
    "#### site_info.region – The brain region (always “AM” in our case)\n",
    "#### labels.orient_person_combo – A combined label of identity and orientation\n",
    "#### We used the spike data as the main input features and explored how well we could decode face identity from these patterns. Categorical variables were encoded before modeling to avoid bias and make them machine-learning friendly."
   ]
  },
  {
   "cell_type": "markdown",
   "metadata": {},
   "source": [
    "# Models for regression _(if applicable)_\n",
    "_(What models will you be using for regression? Why did you choose to use them? What questions would you answer with them? How would you evaluate if each model? What cross-validation method did you use?)_"
   ]
  },
  {
   "cell_type": "code",
   "execution_count": 44,
   "metadata": {},
   "outputs": [],
   "source": [
    "# you may add some code here to show how the model works in principle"
   ]
  },
  {
   "cell_type": "code",
   "execution_count": null,
   "metadata": {},
   "outputs": [],
   "source": []
  },
  {
   "cell_type": "code",
   "execution_count": 45,
   "metadata": {},
   "outputs": [],
   "source": [
    "# you may add some code here to show how the method works in principle"
   ]
  },
  {
   "cell_type": "markdown",
   "metadata": {},
   "source": [
    "# Results"
   ]
  },
  {
   "cell_type": "markdown",
   "metadata": {},
   "source": [
    "_(What did you find when you carried out your methods? Some of your code related to\n",
    "presenting results/figures/data may be replicated from the methods section or may only be present in\n",
    "this section. All of the plots that you plan on using for your presentation should be present in this\n",
    "section)_"
   ]
  },
  {
   "cell_type": "markdown",
   "metadata": {},
   "source": []
  },
  {
   "cell_type": "markdown",
   "metadata": {},
   "source": [
    "### classification¶ results"
   ]
  },
  {
   "cell_type": "markdown",
   "metadata": {
    "jp-MarkdownHeadingCollapsed": true
   },
   "source": [
    "##### how did you do it\n",
    "# Random Forest Classifier\n",
    "Why we used it: Random Forests are great with high-dimensional data and can handle noise really well—perfect for neural spike data.\n",
    "What we got:\n",
    "Test Accuracy: 70.31%\n",
    "Most face identities were classified with good precision and recall.\n",
    "This model clearly outperformed the others.\n",
    "\n",
    "# Support Vector Classifier (SVC)\n",
    "\n",
    "Why we used it: SVCs are typically strong in high-dimensional space, so we wanted to test it here.\n",
    "How it did:\n",
    "Accuracy: Only 8.13%\n",
    "It didn’t handle the complexity and sparsity of the data well.\n",
    "Many classes had zero predicted samples, which led to poor precision and recall.\n",
    "\n",
    "# K-Nearest Neighbors (KNN)\n",
    "\n",
    "Why we used it: KNN is a simple baseline model to test.\n",
    "Results:\n",
    "Accuracy: 57.81%\n",
    "Better than SVC, but still not as strong as Random Forest.\n",
    "It had decent performance on a few identities, but struggled overall with the feature space size.\n",
    "\n",
    "# Cross-Validation (5-Fold)\n",
    "To test how well our models would perform on new, unseen data, we used 5-fold cross-validation. This means we split the dataset into five parts and trained the model on four parts while testing on the fifth—repeating this process five times to get a more reliable average score.\n",
    "\n",
    "Here’s how the models did:\n",
    "\n",
    "Random Forest: 34.06% average accuracy\n",
    "SVC (Support Vector Classifier): 7.5%\n",
    "KNN (K-Nearest Neighbors): 16.25%\n",
    "Even though Random Forest gave us a strong test accuracy of around 70% earlier, the lower cross-validation score tells a different story. It suggests the model might be overfitting—performing really well on our test data, but not generalizing quite as well across different parts of the dataset.\n",
    "\n",
    "SVC and KNN also struggled, showing that decoding facial identity from brain activity isn’t easy—especially with 25 classes and hundreds of spike-time features. Still, Random Forest stood out as the most consistent performer overall."
   ]
  },
  {
   "cell_type": "markdown",
   "metadata": {},
   "source": [
    "# Discussion and Conclusion"
   ]
  },
  {
   "cell_type": "markdown",
   "metadata": {},
   "source": [
    "_(What did you learn from your results? What obstacles did you run into? What would you do differently next time? Clearly provide quantitative answers to your question(s)?  At least one of your questions should be answered with numbers.  That is, it is not sufficient to answer \"yes\" or \"no\", but rather to say something quantitative such as variable 1 increased roughly 10% for every 1 year increase in variable 2.)_"
   ]
  },
  {
   "cell_type": "markdown",
   "metadata": {},
   "source": [
    "# Other Discussion and Conclusion\n"
   ]
  },
  {
   "cell_type": "markdown",
   "metadata": {},
   "source": [
    "### One key takeaway was how temporal patterns in the spike data aligned with known neuroscience. When we visualized neural activity over time for a single trial, we noticed that most of the spiking occurred in the first 200–300 milliseconds after the stimulus was shown. This spike burst reflects how quickly the AM face patch responds to faces, and it helped us understand that:\n",
    "\n",
    "# What We Learned\n",
    "##### Not all 800 time bins carry equal value.Focusing on the early spike windows might improve model performance and reduce training time.We also saw that the dataset was well-balanced in terms of both person identities (25 individuals) and head orientations, which gave us confidence in the fairness of our model evaluations. This balance meant we didn’t have to implement advanced sampling strategies for class imbalance, saving time and effort.\n",
    "\n",
    "# Obstacles We Faced\n",
    "##### One of the biggest challenges we ran into was loading and combining the dataset. Since the data was split across more than 100 individual CSV files, we had to write code that could loop through each file, load it properly, and merge it into one master dataframe. This process wasn’t as simple as it sounds—just one misnamed file or inconsistent formatting could break the whole process. At one point, we accidentally loaded duplicates and had to backtrack to debug where things went wrong.In addition, each file had over 800 spike time columns, which made preprocessing extremely memory-intensive. We had to be strategic about how we handled the data in memory to avoid crashes or lag, especially when running models.We also had to be cautious during the data cleaning process, making sure no important rows were dropped or corrupted. A small mistake—like encoding before splitting the data—could lead to data leakage and unreliable results.On top of that, working with GitHub as a team came with its own set of issues. We ran into merge conflicts during development, especially when syncing changes across branches. At one point, we had to resolve a broken rebase and push fixes manually, which added unexpected delays."
   ]
  },
  {
   "cell_type": "code",
   "execution_count": null,
   "metadata": {},
   "outputs": [],
   "source": []
  },
  {
   "cell_type": "markdown",
   "metadata": {},
   "source": [
    "# conclusion and future steps on classification "
   ]
  },
  {
   "cell_type": "markdown",
   "metadata": {},
   "source": [
    "#### Outside of just running models, we spent some time getting to know the data and looking at patterns in the brain activity itself. That gave us a much better understanding of why our models might be working the way they do.\n",
    "\n",
    "#### Neural Spike Patterns When we looked at the spike activity from a single trial, one thing stood out—there’s a clear burst of neural firing in the first couple hundred milliseconds after a face appears. This makes sense, because the part of the brain we're recording from (the AM face patch) is known to respond quickly to faces.That burst of activity is probably the most useful part of the data for our model. If we wanted to improve performance or reduce noise, focusing only on those early time windows might actually make our model faster and more accurate.\n",
    "\n",
    "#### Working with Categorical Data Our dataset had a few non-numeric columns, like the monkey’s name, brain region, and the face’s orientation. These aren’t directly useful for classifying who’s in the image, but we included them anyway to see if they helped.We first used label encoding, but later switched to one-hot encoding because it works better with tree-based models like Random Forests. This cleaned up the data and made things more consistent.\n",
    "\n",
    "#### One thing to watch out for though—if we trained on data from multiple monkeys or brain regions, there’s a chance our model could learn differences that aren’t really about the face identity. So in a bigger version of this project, we’d want to control for that.\n",
    "\n",
    "#### Class & Orientation Distributions\n",
    "#### The dataset was pretty well-balanced across the 25 different face identities, which was great for training. We also saw that the head orientations were spread out evenly, which will come in handy if we move on to the second part of our project—predicting orientation based on neural activity.\n"
   ]
  },
  {
   "cell_type": "markdown",
   "metadata": {},
   "source": [
    "### Conclusion and Future Steps (Classification)"
   ]
  },
  {
   "cell_type": "markdown",
   "metadata": {},
   "source": [
    "#### Yes From our analysis, we found that it is very much possible to decode face identity from the neural spike data recorded in the AM face patch. Using a Random Forest classifier, we achieved a test accuracy of 70.31% on a 25-class classification task. This is far above the 4% baseline (which is what you'd expect from random guessing), showing strong evidence that the brain’s response contains detailed information about who the monkey is looking at.Other models, like K-Nearest Neighbors (57.81%) and Support Vector Classifier (8.13%), didn't perform as well, but they helped validate that model choice plays a big role in decoding success.In conclusion Yes, face identity can be predicted from neural activity, and Random Forest was the best model for it.\n",
    "\n",
    "\n",
    "#### Future Steps if we were to continue this project, here’s what we’d do next:\n",
    "\n",
    "#### Combine data from multiple sites or monkeys to increase generalization and make our model more robust.Try dimensionality reduction (like PCA) to reduce noise and make the training process more efficient.Analyze time windows to see which specific periods after stimulus onset carry the most identity-related information.Experiment with deep learning models (like neural networks or CNNs) that can learn complex patterns across time more effectively.Finally, we’d also like to test how well these models work on real-time decoding, or perhaps on other brain regions to see if identity signals are unique to the AM patch—or if they’re spread across the brain.\n",
    "\n"
   ]
  },
  {
   "cell_type": "markdown",
   "metadata": {},
   "source": [
    "### conclusion and future steps on other"
   ]
  },
  {
   "cell_type": "markdown",
   "metadata": {},
   "source": [
    "#### Conclusion:\n",
    "\n",
    "\n",
    "### Future Steps\n",
    "#### Looking ahead, there are a few things we’d love to explore further based on what we found:First, it might be worth focusing only on the most active time windows, like the first 300 milliseconds after the image appears. That’s when we saw the most neural firing, and trimming the data could reduce noise and speed up training without losing important information.We’d also like to dive into a feature importance analysis using Random Forests. That would help us figure out which specific neurons or time bins are actually driving the model’s decisions—basically shining a light on what parts of the brain are doing the heavy lifting.\n",
    "#### Big picture, this part of the project gave us a much deeper appreciation for just how rich and detailed neural data can be. There's a lot more to uncover, and we’re excited about the possibilities for more advanced decoding in the future."
   ]
  },
  {
   "cell_type": "markdown",
   "metadata": {},
   "source": [
    "## Author contribution\n",
    "\n",
    "Sukaina was responsible for the classification portion of the project, including model selection, training, and evaluation.\n",
    "\n",
    "\n",
    "Sherry focused on the regression analysis and handled modeling tasks related to predicting continuous outcomes.\n",
    "\n",
    "Both team members met regularly at the library to collaborate, discuss their progress, and ensure the project was completed thoroughly and accurately. They reviewed each other’s work, shared feedback, and supported one another throughout the entire process.\n",
    "\n"
   ]
  },
  {
   "cell_type": "markdown",
   "metadata": {},
   "source": [
    "## References"
   ]
  },
  {
   "cell_type": "markdown",
   "metadata": {},
   "source": [
    "_(List the source(s) for any data and/or literature cited in your project.  Ideally, this should be formatted using a formal citation format (MLA or APA or other, your choice!).   Multiple free online citation generators are available such as <a href=\"http://www.easybib.com/style\">http://www.easybib.com/style</a>. **Important:** if you use **any** code that you find on the internet for your project you **must** cite it or you risk losing most/all of the points for you project.)_\n",
    "\n",
    "### Freiwald, W. A., & Tsao, D. Y. (2010). Functional compartmentalization and viewpoint generalization within the macaque face-processing system. Science, 330(6005), 845-851.\n",
    "\n",
    "### Meyers, E. M., Borzello, M., Freiwald, W. A., & Tsao, D. (2015). Intelligent information loss: The coding of facial identity, head pose, and non-face information in the macaque face patch system. Journal of Neuroscience, 35(18)\n",
    "\n",
    "### “Seaborn.Countplot#.” Seaborn.Countplot - Seaborn 0.13.2 Documentation, seaborn.pydata.org/generated/seaborn.countplot.html. Accessed 5 Mar. 2025. "
   ]
  }
 ],
 "metadata": {
  "kernelspec": {
   "display_name": "Python 3.11 (default)",
   "language": "python",
   "name": "python3"
  },
  "language_info": {
   "codemirror_mode": {
    "name": "ipython",
    "version": 3
   },
   "file_extension": ".py",
   "mimetype": "text/x-python",
   "name": "python",
   "nbconvert_exporter": "python",
   "pygments_lexer": "ipython3",
   "version": "3.11.11"
  }
 },
 "nbformat": 4,
 "nbformat_minor": 4
}
